{
 "cells": [
  {
   "metadata": {},
   "cell_type": "markdown",
   "source": "# Judul e Apa",
   "id": "b2ec0a61bb13dd2d"
  },
  {
   "metadata": {},
   "cell_type": "markdown",
   "source": "Dataset source: https://www.kaggle.com/datasets/bcakra/tournamnet-result-match-of-mpl-indonesia-season-13?select=MPL+Indonesia+Season+13+-+Hero_Role.csv",
   "id": "28447a074e326a10"
  },
  {
   "metadata": {},
   "cell_type": "markdown",
   "source": "## Data Wrangling",
   "id": "6e1aaff837b49fa9"
  },
  {
   "metadata": {},
   "cell_type": "markdown",
   "source": "### Loading Data",
   "id": "cef8b74c2645ea90"
  },
  {
   "cell_type": "code",
   "id": "initial_id",
   "metadata": {
    "collapsed": true,
    "ExecuteTime": {
     "end_time": "2024-06-04T07:09:00.029792Z",
     "start_time": "2024-06-04T07:09:00.025273Z"
    }
   },
   "source": [
    "# Import libraries\n",
    "import pandas as pd\n",
    "import numpy as np"
   ],
   "outputs": [],
   "execution_count": 166
  },
  {
   "metadata": {
    "ExecuteTime": {
     "end_time": "2024-06-04T08:03:26.883047Z",
     "start_time": "2024-06-04T08:03:26.836163Z"
    }
   },
   "cell_type": "code",
   "source": [
    "# Load the data\n",
    "data = pd.read_csv('data/MPL Indonesia Season 13 - Hero_Role.csv')\n",
    "data.head()"
   ],
   "id": "f749586904555f22",
   "outputs": [
    {
     "data": {
      "text/plain": [
       "      Hero                       Title  Hero Order    Role(s) Specialty(ies)  \\\n",
       "0     Miya  Miya, the Moonlight Archer           1   Marksman       Finisher   \n",
       "1  Balmond   Balmond, the Bloody Beast           2    Fighter         Damage   \n",
       "2    Saber  Saber, the Wandering Sword           3   Assassin         Charge   \n",
       "3    Alice   Alice, the Queen of Blood           4  Mage/Tank   Charge/Regen   \n",
       "4     Nana      Nana, the Sweet Leonin           5       Mage           Poke   \n",
       "\n",
       "  Lane Recommendation(s)  Health  Health Regen   Mana  Mana Regen  ...  \\\n",
       "0              Gold Lane    2524           6.0  445.0        15.0  ...   \n",
       "1      Jungling/EXP Lane    2736           9.4    0.0         0.0  ...   \n",
       "2               Jungling    2599           7.0  443.0        16.0  ...   \n",
       "3      EXP Lane/Mid Lane    2573           7.2  493.0        18.0  ...   \n",
       "4       Mid Lane/Roaming    2501           6.8  510.0        18.0  ...   \n",
       "\n",
       "                                    Pasive Deskripsi  Skill 1 Name Abilities  \\\n",
       "0  Miya gains 5% extra Attack Speed for 4s each t...              Moon Arrow   \n",
       "1  Balmond recovers 5% Max HP on minion or creep ...               Soul Lock   \n",
       "2  Saber's attacks reduce enemies' Physical Defen...         Orbiting Swords   \n",
       "3  A blood orb will be generated each time an ene...           Flowing Blood   \n",
       "4  Upon taking fatal damage, Nana removes all deb...         Magic Boomerang   \n",
       "\n",
       "   Skill 1 Ability                           Skill 1 Pasive Deskripsi  \\\n",
       "0         BUFF AoE  Miya shoots two extra arrows on each Basic Att...   \n",
       "1       Blink Slow  Balmond charges in the target direction for a ...   \n",
       "2         AoE BUFF  Saber releases 5 swords that orbit around him ...   \n",
       "3        Blink AoE  Alice casts a sphere of blood energy in the ta...   \n",
       "4              AoE  Nana hurls her Magic Boomerang in the target d...   \n",
       "\n",
       "   Skill 2 Name Abilities  Skill 2 Ability  \\\n",
       "0        Arrow of Eclipse           CC AoE   \n",
       "1           Cyclone Sweep         AoE BUFF   \n",
       "2                  Charge        Blink AoE   \n",
       "3               Blood Awe           CC AoE   \n",
       "4           Molina Smooch        CC Debuff   \n",
       "\n",
       "                            Skill 2 Pasive Deskripsi  Skill 3 Name Abilities  \\\n",
       "0  Miya launches an empowered arrow on the target...        Hidden Moonlight   \n",
       "1  Balmond spins with his axe for 3s, continuousl...          Lethal Counter   \n",
       "2  Saber dashes in the target direction, dealing ...            Triple Sweep   \n",
       "3  Alice deals 270(+90%Total Magic Power) Magic D...               Blood Ode   \n",
       "4  Nana sends Molina to the target location, who ...            Molina Blitz   \n",
       "\n",
       "     Skill 3 Ability                           Skill 3 Pasive Deskripsi  \n",
       "0  Conceal Remove CC  Miya removes all debuffs on her and conceals h...  \n",
       "1         Burst Slow  After a short delay, Balmond smashes his axe i...  \n",
       "2           Burst CC  Saber charges at the target enemy hero, knocki...  \n",
       "3           AoE HEAL  Alice enters the blood-draining state, consumi...  \n",
       "4           Burst CC  Nana summons Molina to attack the target area ...  \n",
       "\n",
       "[5 rows x 34 columns]"
      ],
      "text/html": [
       "<div>\n",
       "<style scoped>\n",
       "    .dataframe tbody tr th:only-of-type {\n",
       "        vertical-align: middle;\n",
       "    }\n",
       "\n",
       "    .dataframe tbody tr th {\n",
       "        vertical-align: top;\n",
       "    }\n",
       "\n",
       "    .dataframe thead th {\n",
       "        text-align: right;\n",
       "    }\n",
       "</style>\n",
       "<table border=\"1\" class=\"dataframe\">\n",
       "  <thead>\n",
       "    <tr style=\"text-align: right;\">\n",
       "      <th></th>\n",
       "      <th>Hero</th>\n",
       "      <th>Title</th>\n",
       "      <th>Hero Order</th>\n",
       "      <th>Role(s)</th>\n",
       "      <th>Specialty(ies)</th>\n",
       "      <th>Lane Recommendation(s)</th>\n",
       "      <th>Health</th>\n",
       "      <th>Health Regen</th>\n",
       "      <th>Mana</th>\n",
       "      <th>Mana Regen</th>\n",
       "      <th>...</th>\n",
       "      <th>Pasive Deskripsi</th>\n",
       "      <th>Skill 1 Name Abilities</th>\n",
       "      <th>Skill 1 Ability</th>\n",
       "      <th>Skill 1 Pasive Deskripsi</th>\n",
       "      <th>Skill 2 Name Abilities</th>\n",
       "      <th>Skill 2 Ability</th>\n",
       "      <th>Skill 2 Pasive Deskripsi</th>\n",
       "      <th>Skill 3 Name Abilities</th>\n",
       "      <th>Skill 3 Ability</th>\n",
       "      <th>Skill 3 Pasive Deskripsi</th>\n",
       "    </tr>\n",
       "  </thead>\n",
       "  <tbody>\n",
       "    <tr>\n",
       "      <th>0</th>\n",
       "      <td>Miya</td>\n",
       "      <td>Miya, the Moonlight Archer</td>\n",
       "      <td>1</td>\n",
       "      <td>Marksman</td>\n",
       "      <td>Finisher</td>\n",
       "      <td>Gold Lane</td>\n",
       "      <td>2524</td>\n",
       "      <td>6.0</td>\n",
       "      <td>445.0</td>\n",
       "      <td>15.0</td>\n",
       "      <td>...</td>\n",
       "      <td>Miya gains 5% extra Attack Speed for 4s each t...</td>\n",
       "      <td>Moon Arrow</td>\n",
       "      <td>BUFF AoE</td>\n",
       "      <td>Miya shoots two extra arrows on each Basic Att...</td>\n",
       "      <td>Arrow of Eclipse</td>\n",
       "      <td>CC AoE</td>\n",
       "      <td>Miya launches an empowered arrow on the target...</td>\n",
       "      <td>Hidden Moonlight</td>\n",
       "      <td>Conceal Remove CC</td>\n",
       "      <td>Miya removes all debuffs on her and conceals h...</td>\n",
       "    </tr>\n",
       "    <tr>\n",
       "      <th>1</th>\n",
       "      <td>Balmond</td>\n",
       "      <td>Balmond, the Bloody Beast</td>\n",
       "      <td>2</td>\n",
       "      <td>Fighter</td>\n",
       "      <td>Damage</td>\n",
       "      <td>Jungling/EXP Lane</td>\n",
       "      <td>2736</td>\n",
       "      <td>9.4</td>\n",
       "      <td>0.0</td>\n",
       "      <td>0.0</td>\n",
       "      <td>...</td>\n",
       "      <td>Balmond recovers 5% Max HP on minion or creep ...</td>\n",
       "      <td>Soul Lock</td>\n",
       "      <td>Blink Slow</td>\n",
       "      <td>Balmond charges in the target direction for a ...</td>\n",
       "      <td>Cyclone Sweep</td>\n",
       "      <td>AoE BUFF</td>\n",
       "      <td>Balmond spins with his axe for 3s, continuousl...</td>\n",
       "      <td>Lethal Counter</td>\n",
       "      <td>Burst Slow</td>\n",
       "      <td>After a short delay, Balmond smashes his axe i...</td>\n",
       "    </tr>\n",
       "    <tr>\n",
       "      <th>2</th>\n",
       "      <td>Saber</td>\n",
       "      <td>Saber, the Wandering Sword</td>\n",
       "      <td>3</td>\n",
       "      <td>Assassin</td>\n",
       "      <td>Charge</td>\n",
       "      <td>Jungling</td>\n",
       "      <td>2599</td>\n",
       "      <td>7.0</td>\n",
       "      <td>443.0</td>\n",
       "      <td>16.0</td>\n",
       "      <td>...</td>\n",
       "      <td>Saber's attacks reduce enemies' Physical Defen...</td>\n",
       "      <td>Orbiting Swords</td>\n",
       "      <td>AoE BUFF</td>\n",
       "      <td>Saber releases 5 swords that orbit around him ...</td>\n",
       "      <td>Charge</td>\n",
       "      <td>Blink AoE</td>\n",
       "      <td>Saber dashes in the target direction, dealing ...</td>\n",
       "      <td>Triple Sweep</td>\n",
       "      <td>Burst CC</td>\n",
       "      <td>Saber charges at the target enemy hero, knocki...</td>\n",
       "    </tr>\n",
       "    <tr>\n",
       "      <th>3</th>\n",
       "      <td>Alice</td>\n",
       "      <td>Alice, the Queen of Blood</td>\n",
       "      <td>4</td>\n",
       "      <td>Mage/Tank</td>\n",
       "      <td>Charge/Regen</td>\n",
       "      <td>EXP Lane/Mid Lane</td>\n",
       "      <td>2573</td>\n",
       "      <td>7.2</td>\n",
       "      <td>493.0</td>\n",
       "      <td>18.0</td>\n",
       "      <td>...</td>\n",
       "      <td>A blood orb will be generated each time an ene...</td>\n",
       "      <td>Flowing Blood</td>\n",
       "      <td>Blink AoE</td>\n",
       "      <td>Alice casts a sphere of blood energy in the ta...</td>\n",
       "      <td>Blood Awe</td>\n",
       "      <td>CC AoE</td>\n",
       "      <td>Alice deals 270(+90%Total Magic Power) Magic D...</td>\n",
       "      <td>Blood Ode</td>\n",
       "      <td>AoE HEAL</td>\n",
       "      <td>Alice enters the blood-draining state, consumi...</td>\n",
       "    </tr>\n",
       "    <tr>\n",
       "      <th>4</th>\n",
       "      <td>Nana</td>\n",
       "      <td>Nana, the Sweet Leonin</td>\n",
       "      <td>5</td>\n",
       "      <td>Mage</td>\n",
       "      <td>Poke</td>\n",
       "      <td>Mid Lane/Roaming</td>\n",
       "      <td>2501</td>\n",
       "      <td>6.8</td>\n",
       "      <td>510.0</td>\n",
       "      <td>18.0</td>\n",
       "      <td>...</td>\n",
       "      <td>Upon taking fatal damage, Nana removes all deb...</td>\n",
       "      <td>Magic Boomerang</td>\n",
       "      <td>AoE</td>\n",
       "      <td>Nana hurls her Magic Boomerang in the target d...</td>\n",
       "      <td>Molina Smooch</td>\n",
       "      <td>CC Debuff</td>\n",
       "      <td>Nana sends Molina to the target location, who ...</td>\n",
       "      <td>Molina Blitz</td>\n",
       "      <td>Burst CC</td>\n",
       "      <td>Nana summons Molina to attack the target area ...</td>\n",
       "    </tr>\n",
       "  </tbody>\n",
       "</table>\n",
       "<p>5 rows × 34 columns</p>\n",
       "</div>"
      ]
     },
     "execution_count": 234,
     "metadata": {},
     "output_type": "execute_result"
    }
   ],
   "execution_count": 234
  },
  {
   "metadata": {},
   "cell_type": "markdown",
   "source": "### Assessing Data",
   "id": "32fbab85145f2992"
  },
  {
   "metadata": {
    "ExecuteTime": {
     "end_time": "2024-06-04T08:03:27.302729Z",
     "start_time": "2024-06-04T08:03:27.271474Z"
    }
   },
   "cell_type": "code",
   "source": [
    "# Check the shape of the data\n",
    "data.info()"
   ],
   "id": "2464a4f5ade02644",
   "outputs": [
    {
     "name": "stdout",
     "output_type": "stream",
     "text": [
      "<class 'pandas.core.frame.DataFrame'>\n",
      "RangeIndex: 123 entries, 0 to 122\n",
      "Data columns (total 34 columns):\n",
      " #   Column                    Non-Null Count  Dtype  \n",
      "---  ------                    --------------  -----  \n",
      " 0   Hero                      123 non-null    object \n",
      " 1   Title                     123 non-null    object \n",
      " 2   Hero Order                123 non-null    int64  \n",
      " 3   Role(s)                   123 non-null    object \n",
      " 4   Specialty(ies)            123 non-null    object \n",
      " 5   Lane Recommendation(s)    123 non-null    object \n",
      " 6   Health                    123 non-null    int64  \n",
      " 7   Health Regen              123 non-null    float64\n",
      " 8   Mana                      118 non-null    float64\n",
      " 9   Mana Regen                118 non-null    float64\n",
      " 10  Attack Speed              123 non-null    object \n",
      " 11  Physical Damage           123 non-null    int64  \n",
      " 12  Magical Damage            123 non-null    int64  \n",
      " 13  Physical Defense          123 non-null    int64  \n",
      " 14  Magical Defense           123 non-null    int64  \n",
      " 15  Movement Speed            123 non-null    int64  \n",
      " 16  Energy                    6 non-null      float64\n",
      " 17  Energy Regen              6 non-null      float64\n",
      " 18  Price                     122 non-null    object \n",
      " 19  Specialty                 120 non-null    object \n",
      " 20  Win Rate                  123 non-null    object \n",
      " 21  Hero.1                    123 non-null    object \n",
      " 22   Name Pasive Abilities    123 non-null    object \n",
      " 23  Ability                   123 non-null    object \n",
      " 24  Pasive Deskripsi          123 non-null    object \n",
      " 25  Skill 1 Name Abilities    123 non-null    object \n",
      " 26  Skill 1 Ability           123 non-null    object \n",
      " 27  Skill 1 Pasive Deskripsi  123 non-null    object \n",
      " 28  Skill 2 Name Abilities    123 non-null    object \n",
      " 29  Skill 2 Ability           123 non-null    object \n",
      " 30  Skill 2 Pasive Deskripsi  123 non-null    object \n",
      " 31  Skill 3 Name Abilities    123 non-null    object \n",
      " 32  Skill 3 Ability           123 non-null    object \n",
      " 33  Skill 3 Pasive Deskripsi  123 non-null    object \n",
      "dtypes: float64(5), int64(7), object(22)\n",
      "memory usage: 32.8+ KB\n"
     ]
    }
   ],
   "execution_count": 235
  },
  {
   "metadata": {},
   "cell_type": "markdown",
   "source": "Total 34 kolom dan 123 entri hero. Terdapat beberapa tipe data pada kolom krusial yang belum sesuai, seperti win rate, price, dan attack speed.",
   "id": "4baeedb0ef9ef0e0"
  },
  {
   "metadata": {
    "ExecuteTime": {
     "end_time": "2024-06-04T08:03:27.588340Z",
     "start_time": "2024-06-04T08:03:27.572740Z"
    }
   },
   "cell_type": "code",
   "source": "data.nunique()",
   "id": "3d5b6ea3ccfc7d24",
   "outputs": [
    {
     "data": {
      "text/plain": [
       "Hero                        123\n",
       "Title                       123\n",
       "Hero Order                  123\n",
       "Role(s)                      24\n",
       "Specialty(ies)               40\n",
       "Lane Recommendation(s)       18\n",
       "Health                       83\n",
       "Health Regen                 26\n",
       "Mana                         43\n",
       "Mana Regen                   19\n",
       "Attack Speed                 35\n",
       "Physical Damage              31\n",
       "Magical Damage                1\n",
       "Physical Defense             16\n",
       "Magical Defense               2\n",
       "Movement Speed               13\n",
       "Energy                        1\n",
       "Energy Regen                  5\n",
       "Price                        13\n",
       "Specialty                    61\n",
       "Win Rate                    123\n",
       "Hero.1                      123\n",
       " Name Pasive Abilities      123\n",
       "Ability                      30\n",
       "Pasive Deskripsi            123\n",
       "Skill 1 Name Abilities      123\n",
       "Skill 1 Ability              41\n",
       "Skill 1 Pasive Deskripsi    123\n",
       "Skill 2 Name Abilities      123\n",
       "Skill 2 Ability              59\n",
       "Skill 2 Pasive Deskripsi    123\n",
       "Skill 3 Name Abilities      123\n",
       "Skill 3 Ability              64\n",
       "Skill 3 Pasive Deskripsi    123\n",
       "dtype: int64"
      ]
     },
     "execution_count": 236,
     "metadata": {},
     "output_type": "execute_result"
    }
   ],
   "execution_count": 236
  },
  {
   "metadata": {
    "ExecuteTime": {
     "end_time": "2024-06-04T08:03:27.776676Z",
     "start_time": "2024-06-04T08:03:27.761033Z"
    }
   },
   "cell_type": "code",
   "source": [
    "# Mengecek nilai null\n",
    "data.isna().sum()"
   ],
   "id": "41ec8527f80219a5",
   "outputs": [
    {
     "data": {
      "text/plain": [
       "Hero                          0\n",
       "Title                         0\n",
       "Hero Order                    0\n",
       "Role(s)                       0\n",
       "Specialty(ies)                0\n",
       "Lane Recommendation(s)        0\n",
       "Health                        0\n",
       "Health Regen                  0\n",
       "Mana                          5\n",
       "Mana Regen                    5\n",
       "Attack Speed                  0\n",
       "Physical Damage               0\n",
       "Magical Damage                0\n",
       "Physical Defense              0\n",
       "Magical Defense               0\n",
       "Movement Speed                0\n",
       "Energy                      117\n",
       "Energy Regen                117\n",
       "Price                         1\n",
       "Specialty                     3\n",
       "Win Rate                      0\n",
       "Hero.1                        0\n",
       " Name Pasive Abilities        0\n",
       "Ability                       0\n",
       "Pasive Deskripsi              0\n",
       "Skill 1 Name Abilities        0\n",
       "Skill 1 Ability               0\n",
       "Skill 1 Pasive Deskripsi      0\n",
       "Skill 2 Name Abilities        0\n",
       "Skill 2 Ability               0\n",
       "Skill 2 Pasive Deskripsi      0\n",
       "Skill 3 Name Abilities        0\n",
       "Skill 3 Ability               0\n",
       "Skill 3 Pasive Deskripsi      0\n",
       "dtype: int64"
      ]
     },
     "execution_count": 237,
     "metadata": {},
     "output_type": "execute_result"
    }
   ],
   "execution_count": 237
  },
  {
   "metadata": {},
   "cell_type": "markdown",
   "source": "Terdapat 5 entri hero yang tidak menggunakan mana/mana regen melainkan energi/regen. 1 entri hero juga yang pricenya null. Untuk kolom specialty, dikarenakan tidak relevant dengan tujuan yg dicapai maka abaikan saja",
   "id": "751b08d3f9a261ec"
  },
  {
   "metadata": {
    "ExecuteTime": {
     "end_time": "2024-06-04T08:03:28.185316Z",
     "start_time": "2024-06-04T08:03:28.138441Z"
    }
   },
   "cell_type": "code",
   "source": "data.describe()",
   "id": "5bdef9b565fe1e36",
   "outputs": [
    {
     "data": {
      "text/plain": [
       "       Hero Order       Health  Health Regen        Mana  Mana Regen  \\\n",
       "count  123.000000   123.000000    123.000000  118.000000  118.000000   \n",
       "mean    62.000000  2580.544715      7.681301  347.211864   12.708475   \n",
       "std     35.651087   207.092529      1.592161  214.532322    8.567745   \n",
       "min      1.000000   918.000000      3.800000    0.000000    0.000000   \n",
       "25%     31.500000  2501.000000      6.800000    0.000000    0.000000   \n",
       "50%     62.000000  2578.000000      7.200000  440.000000   15.000000   \n",
       "75%     92.500000  2701.000000      8.000000  490.000000   18.000000   \n",
       "max    123.000000  2909.000000     18.400000  750.000000   31.000000   \n",
       "\n",
       "       Physical Damage  Magical Damage  Physical Defense  Magical Defense  \\\n",
       "count       123.000000           123.0        123.000000       123.000000   \n",
       "mean        116.065041             0.0         19.154472        14.878049   \n",
       "std           9.835316             0.0          3.550646         0.774442   \n",
       "min          90.000000             0.0         10.000000        10.000000   \n",
       "25%         110.000000             0.0         17.000000        15.000000   \n",
       "50%         117.000000             0.0         19.000000        15.000000   \n",
       "75%         122.000000             0.0         21.500000        15.000000   \n",
       "max         140.000000             0.0         27.000000        15.000000   \n",
       "\n",
       "       Movement Speed  Energy  Energy Regen  \n",
       "count      123.000000     6.0      6.000000  \n",
       "mean       251.495935   100.0     42.800000  \n",
       "std          8.715328     0.0     96.618425  \n",
       "min        240.000000   100.0      0.800000  \n",
       "25%        240.000000   100.0      3.250000  \n",
       "50%        252.000000   100.0      4.000000  \n",
       "75%        260.000000   100.0      4.750000  \n",
       "max        270.000000   100.0    240.000000  "
      ],
      "text/html": [
       "<div>\n",
       "<style scoped>\n",
       "    .dataframe tbody tr th:only-of-type {\n",
       "        vertical-align: middle;\n",
       "    }\n",
       "\n",
       "    .dataframe tbody tr th {\n",
       "        vertical-align: top;\n",
       "    }\n",
       "\n",
       "    .dataframe thead th {\n",
       "        text-align: right;\n",
       "    }\n",
       "</style>\n",
       "<table border=\"1\" class=\"dataframe\">\n",
       "  <thead>\n",
       "    <tr style=\"text-align: right;\">\n",
       "      <th></th>\n",
       "      <th>Hero Order</th>\n",
       "      <th>Health</th>\n",
       "      <th>Health Regen</th>\n",
       "      <th>Mana</th>\n",
       "      <th>Mana Regen</th>\n",
       "      <th>Physical Damage</th>\n",
       "      <th>Magical Damage</th>\n",
       "      <th>Physical Defense</th>\n",
       "      <th>Magical Defense</th>\n",
       "      <th>Movement Speed</th>\n",
       "      <th>Energy</th>\n",
       "      <th>Energy Regen</th>\n",
       "    </tr>\n",
       "  </thead>\n",
       "  <tbody>\n",
       "    <tr>\n",
       "      <th>count</th>\n",
       "      <td>123.000000</td>\n",
       "      <td>123.000000</td>\n",
       "      <td>123.000000</td>\n",
       "      <td>118.000000</td>\n",
       "      <td>118.000000</td>\n",
       "      <td>123.000000</td>\n",
       "      <td>123.0</td>\n",
       "      <td>123.000000</td>\n",
       "      <td>123.000000</td>\n",
       "      <td>123.000000</td>\n",
       "      <td>6.0</td>\n",
       "      <td>6.000000</td>\n",
       "    </tr>\n",
       "    <tr>\n",
       "      <th>mean</th>\n",
       "      <td>62.000000</td>\n",
       "      <td>2580.544715</td>\n",
       "      <td>7.681301</td>\n",
       "      <td>347.211864</td>\n",
       "      <td>12.708475</td>\n",
       "      <td>116.065041</td>\n",
       "      <td>0.0</td>\n",
       "      <td>19.154472</td>\n",
       "      <td>14.878049</td>\n",
       "      <td>251.495935</td>\n",
       "      <td>100.0</td>\n",
       "      <td>42.800000</td>\n",
       "    </tr>\n",
       "    <tr>\n",
       "      <th>std</th>\n",
       "      <td>35.651087</td>\n",
       "      <td>207.092529</td>\n",
       "      <td>1.592161</td>\n",
       "      <td>214.532322</td>\n",
       "      <td>8.567745</td>\n",
       "      <td>9.835316</td>\n",
       "      <td>0.0</td>\n",
       "      <td>3.550646</td>\n",
       "      <td>0.774442</td>\n",
       "      <td>8.715328</td>\n",
       "      <td>0.0</td>\n",
       "      <td>96.618425</td>\n",
       "    </tr>\n",
       "    <tr>\n",
       "      <th>min</th>\n",
       "      <td>1.000000</td>\n",
       "      <td>918.000000</td>\n",
       "      <td>3.800000</td>\n",
       "      <td>0.000000</td>\n",
       "      <td>0.000000</td>\n",
       "      <td>90.000000</td>\n",
       "      <td>0.0</td>\n",
       "      <td>10.000000</td>\n",
       "      <td>10.000000</td>\n",
       "      <td>240.000000</td>\n",
       "      <td>100.0</td>\n",
       "      <td>0.800000</td>\n",
       "    </tr>\n",
       "    <tr>\n",
       "      <th>25%</th>\n",
       "      <td>31.500000</td>\n",
       "      <td>2501.000000</td>\n",
       "      <td>6.800000</td>\n",
       "      <td>0.000000</td>\n",
       "      <td>0.000000</td>\n",
       "      <td>110.000000</td>\n",
       "      <td>0.0</td>\n",
       "      <td>17.000000</td>\n",
       "      <td>15.000000</td>\n",
       "      <td>240.000000</td>\n",
       "      <td>100.0</td>\n",
       "      <td>3.250000</td>\n",
       "    </tr>\n",
       "    <tr>\n",
       "      <th>50%</th>\n",
       "      <td>62.000000</td>\n",
       "      <td>2578.000000</td>\n",
       "      <td>7.200000</td>\n",
       "      <td>440.000000</td>\n",
       "      <td>15.000000</td>\n",
       "      <td>117.000000</td>\n",
       "      <td>0.0</td>\n",
       "      <td>19.000000</td>\n",
       "      <td>15.000000</td>\n",
       "      <td>252.000000</td>\n",
       "      <td>100.0</td>\n",
       "      <td>4.000000</td>\n",
       "    </tr>\n",
       "    <tr>\n",
       "      <th>75%</th>\n",
       "      <td>92.500000</td>\n",
       "      <td>2701.000000</td>\n",
       "      <td>8.000000</td>\n",
       "      <td>490.000000</td>\n",
       "      <td>18.000000</td>\n",
       "      <td>122.000000</td>\n",
       "      <td>0.0</td>\n",
       "      <td>21.500000</td>\n",
       "      <td>15.000000</td>\n",
       "      <td>260.000000</td>\n",
       "      <td>100.0</td>\n",
       "      <td>4.750000</td>\n",
       "    </tr>\n",
       "    <tr>\n",
       "      <th>max</th>\n",
       "      <td>123.000000</td>\n",
       "      <td>2909.000000</td>\n",
       "      <td>18.400000</td>\n",
       "      <td>750.000000</td>\n",
       "      <td>31.000000</td>\n",
       "      <td>140.000000</td>\n",
       "      <td>0.0</td>\n",
       "      <td>27.000000</td>\n",
       "      <td>15.000000</td>\n",
       "      <td>270.000000</td>\n",
       "      <td>100.0</td>\n",
       "      <td>240.000000</td>\n",
       "    </tr>\n",
       "  </tbody>\n",
       "</table>\n",
       "</div>"
      ]
     },
     "execution_count": 238,
     "metadata": {},
     "output_type": "execute_result"
    }
   ],
   "execution_count": 238
  },
  {
   "metadata": {},
   "cell_type": "markdown",
   "source": [
    "- Dikarenakan kolom magical damage bernilai 0 semua dan hero magic pun mempunyai physical damage pada tabel, anggap physical damage sebagai damage universal.\n",
    "- Dikarenakan beberapa hero ada yang tidak menggunakan mana sama sekali dan beberapa hero juga menggunakan energi. Penggunaan mana,energi,mana regen, dan energi regen diabaikan saja dari kriteria."
   ],
   "id": "d9010452463dbf68"
  },
  {
   "metadata": {
    "ExecuteTime": {
     "end_time": "2024-06-04T08:03:28.528054Z",
     "start_time": "2024-06-04T08:03:28.512040Z"
    }
   },
   "cell_type": "code",
   "source": "print(\"Jumlah duplikasi: \", data.duplicated().sum())",
   "id": "43aad5f0f89f6e1c",
   "outputs": [
    {
     "name": "stdout",
     "output_type": "stream",
     "text": [
      "Jumlah duplikasi:  0\n"
     ]
    }
   ],
   "execution_count": 239
  },
  {
   "metadata": {},
   "cell_type": "markdown",
   "source": "### Data Cleaning",
   "id": "af0c1eb8c54259a5"
  },
  {
   "metadata": {
    "ExecuteTime": {
     "end_time": "2024-06-04T08:03:29.123562Z",
     "start_time": "2024-06-04T08:03:29.091883Z"
    }
   },
   "cell_type": "code",
   "source": "clean_data = data.copy()",
   "id": "95571062be113dba",
   "outputs": [],
   "execution_count": 240
  },
  {
   "metadata": {},
   "cell_type": "markdown",
   "source": "#### Menyesuaikan tipe data",
   "id": "cddf5cd9699267f1"
  },
  {
   "metadata": {},
   "cell_type": "markdown",
   "source": "Mengubah tipe data win rate, price, dan attack speed menjadi float",
   "id": "d806c17666a7a077"
  },
  {
   "metadata": {
    "ExecuteTime": {
     "end_time": "2024-06-04T08:03:30.420176Z",
     "start_time": "2024-06-04T08:03:30.389028Z"
    }
   },
   "cell_type": "code",
   "source": [
    "# Mengecek tipe data win rate, price, dan attack speed\n",
    "clean_data[['Win Rate', 'Price', 'Attack Speed']].dtypes"
   ],
   "id": "4f1d6c7676752706",
   "outputs": [
    {
     "data": {
      "text/plain": [
       "Win Rate        object\n",
       "Price           object\n",
       "Attack Speed    object\n",
       "dtype: object"
      ]
     },
     "execution_count": 241,
     "metadata": {},
     "output_type": "execute_result"
    }
   ],
   "execution_count": 241
  },
  {
   "metadata": {
    "ExecuteTime": {
     "end_time": "2024-06-04T08:03:30.952081Z",
     "start_time": "2024-06-04T08:03:30.920860Z"
    }
   },
   "cell_type": "code",
   "source": [
    "# Melihat entri data win rate, price, dan attack speed\n",
    "clean_data[['Attack Speed', 'Price', 'Win Rate']].head()"
   ],
   "id": "94f8a1095ce67304",
   "outputs": [
    {
     "data": {
      "text/plain": [
       "  Attack Speed        Price              Win Rate\n",
       "0  1.06 ┃ 100%        10800    33W : 32L (50.77%)\n",
       "1  1.06 ┃ 100%   6500   299  453W : 516L (46.75%)\n",
       "2  1.08 ┃ 100%   6500   299  142W : 146L (49.31%)\n",
       "3     1 ┃ 100%  15000   399  513W : 526L (49.37%)\n",
       "4  1.08 ┃ 100%   6500   299   74W : 105L (41.34%)"
      ],
      "text/html": [
       "<div>\n",
       "<style scoped>\n",
       "    .dataframe tbody tr th:only-of-type {\n",
       "        vertical-align: middle;\n",
       "    }\n",
       "\n",
       "    .dataframe tbody tr th {\n",
       "        vertical-align: top;\n",
       "    }\n",
       "\n",
       "    .dataframe thead th {\n",
       "        text-align: right;\n",
       "    }\n",
       "</style>\n",
       "<table border=\"1\" class=\"dataframe\">\n",
       "  <thead>\n",
       "    <tr style=\"text-align: right;\">\n",
       "      <th></th>\n",
       "      <th>Attack Speed</th>\n",
       "      <th>Price</th>\n",
       "      <th>Win Rate</th>\n",
       "    </tr>\n",
       "  </thead>\n",
       "  <tbody>\n",
       "    <tr>\n",
       "      <th>0</th>\n",
       "      <td>1.06 ┃ 100%</td>\n",
       "      <td>10800</td>\n",
       "      <td>33W : 32L (50.77%)</td>\n",
       "    </tr>\n",
       "    <tr>\n",
       "      <th>1</th>\n",
       "      <td>1.06 ┃ 100%</td>\n",
       "      <td>6500   299</td>\n",
       "      <td>453W : 516L (46.75%)</td>\n",
       "    </tr>\n",
       "    <tr>\n",
       "      <th>2</th>\n",
       "      <td>1.08 ┃ 100%</td>\n",
       "      <td>6500   299</td>\n",
       "      <td>142W : 146L (49.31%)</td>\n",
       "    </tr>\n",
       "    <tr>\n",
       "      <th>3</th>\n",
       "      <td>1 ┃ 100%</td>\n",
       "      <td>15000   399</td>\n",
       "      <td>513W : 526L (49.37%)</td>\n",
       "    </tr>\n",
       "    <tr>\n",
       "      <th>4</th>\n",
       "      <td>1.08 ┃ 100%</td>\n",
       "      <td>6500   299</td>\n",
       "      <td>74W : 105L (41.34%)</td>\n",
       "    </tr>\n",
       "  </tbody>\n",
       "</table>\n",
       "</div>"
      ]
     },
     "execution_count": 242,
     "metadata": {},
     "output_type": "execute_result"
    }
   ],
   "execution_count": 242
  },
  {
   "metadata": {
    "ExecuteTime": {
     "end_time": "2024-06-04T08:03:31.331403Z",
     "start_time": "2024-06-04T08:03:31.315295Z"
    }
   },
   "cell_type": "code",
   "source": [
    "# Mengganti nilai data attack speed\n",
    "clean_data['Attack Speed'] = clean_data['Attack Speed'].str.split('┃').str[0].astype(float)"
   ],
   "id": "7b11e6c80cee5d5b",
   "outputs": [],
   "execution_count": 243
  },
  {
   "metadata": {
    "ExecuteTime": {
     "end_time": "2024-06-04T08:03:31.750517Z",
     "start_time": "2024-06-04T08:03:31.734885Z"
    }
   },
   "cell_type": "code",
   "source": [
    "# Mengganti nilai data win rate\n",
    "clean_data['Win Rate'] = clean_data['Win Rate'].str.extract(r'(\\d+(\\.\\d+)?)%\\)$')[0].astype(float)"
   ],
   "id": "23576a8bd20f94fa",
   "outputs": [],
   "execution_count": 244
  },
  {
   "metadata": {
    "ExecuteTime": {
     "end_time": "2024-06-04T08:03:32.172607Z",
     "start_time": "2024-06-04T08:03:32.156952Z"
    }
   },
   "cell_type": "code",
   "source": [
    "# Mengganti nilai data price\n",
    "clean_data['Price'] = clean_data['Price'].str.split().str[0].astype(float)"
   ],
   "id": "4bc4f138ecfd2e26",
   "outputs": [],
   "execution_count": 245
  },
  {
   "metadata": {
    "ExecuteTime": {
     "end_time": "2024-06-04T08:03:32.588142Z",
     "start_time": "2024-06-04T08:03:32.572517Z"
    }
   },
   "cell_type": "code",
   "source": [
    "# Melihat entri data win rate, price, dan attack speed\n",
    "clean_data[['Attack Speed', 'Price', 'Win Rate']].head()"
   ],
   "id": "e1e0e0aec372c83a",
   "outputs": [
    {
     "data": {
      "text/plain": [
       "   Attack Speed    Price  Win Rate\n",
       "0          1.06  10800.0     50.77\n",
       "1          1.06   6500.0     46.75\n",
       "2          1.08   6500.0     49.31\n",
       "3          1.00  15000.0     49.37\n",
       "4          1.08   6500.0     41.34"
      ],
      "text/html": [
       "<div>\n",
       "<style scoped>\n",
       "    .dataframe tbody tr th:only-of-type {\n",
       "        vertical-align: middle;\n",
       "    }\n",
       "\n",
       "    .dataframe tbody tr th {\n",
       "        vertical-align: top;\n",
       "    }\n",
       "\n",
       "    .dataframe thead th {\n",
       "        text-align: right;\n",
       "    }\n",
       "</style>\n",
       "<table border=\"1\" class=\"dataframe\">\n",
       "  <thead>\n",
       "    <tr style=\"text-align: right;\">\n",
       "      <th></th>\n",
       "      <th>Attack Speed</th>\n",
       "      <th>Price</th>\n",
       "      <th>Win Rate</th>\n",
       "    </tr>\n",
       "  </thead>\n",
       "  <tbody>\n",
       "    <tr>\n",
       "      <th>0</th>\n",
       "      <td>1.06</td>\n",
       "      <td>10800.0</td>\n",
       "      <td>50.77</td>\n",
       "    </tr>\n",
       "    <tr>\n",
       "      <th>1</th>\n",
       "      <td>1.06</td>\n",
       "      <td>6500.0</td>\n",
       "      <td>46.75</td>\n",
       "    </tr>\n",
       "    <tr>\n",
       "      <th>2</th>\n",
       "      <td>1.08</td>\n",
       "      <td>6500.0</td>\n",
       "      <td>49.31</td>\n",
       "    </tr>\n",
       "    <tr>\n",
       "      <th>3</th>\n",
       "      <td>1.00</td>\n",
       "      <td>15000.0</td>\n",
       "      <td>49.37</td>\n",
       "    </tr>\n",
       "    <tr>\n",
       "      <th>4</th>\n",
       "      <td>1.08</td>\n",
       "      <td>6500.0</td>\n",
       "      <td>41.34</td>\n",
       "    </tr>\n",
       "  </tbody>\n",
       "</table>\n",
       "</div>"
      ]
     },
     "execution_count": 246,
     "metadata": {},
     "output_type": "execute_result"
    }
   ],
   "execution_count": 246
  },
  {
   "metadata": {
    "ExecuteTime": {
     "end_time": "2024-06-04T08:03:32.992510Z",
     "start_time": "2024-06-04T08:03:32.976884Z"
    }
   },
   "cell_type": "code",
   "source": [
    "# Mengecek Tipe Data\n",
    "clean_data[['Win Rate', 'Price', 'Attack Speed']].dtypes"
   ],
   "id": "e70510c1c9c0a568",
   "outputs": [
    {
     "data": {
      "text/plain": [
       "Win Rate        float64\n",
       "Price           float64\n",
       "Attack Speed    float64\n",
       "dtype: object"
      ]
     },
     "execution_count": 247,
     "metadata": {},
     "output_type": "execute_result"
    }
   ],
   "execution_count": 247
  },
  {
   "metadata": {},
   "cell_type": "markdown",
   "source": "#### Mengisi nilai price yang hilang",
   "id": "aef05ed9039aadca"
  },
  {
   "metadata": {
    "ExecuteTime": {
     "end_time": "2024-06-04T08:03:34.139255Z",
     "start_time": "2024-06-04T08:03:34.107609Z"
    }
   },
   "cell_type": "code",
   "source": [
    "# Melihat hero yang mempunyai price yang hilang.\n",
    "clean_data[clean_data['Price'].isna()]"
   ],
   "id": "2692b9867b80146e",
   "outputs": [
    {
     "data": {
      "text/plain": [
       "        Hero                    Title  Hero Order Role(s) Specialty(ies)  \\\n",
       "118  Novaria  Novaria, the Star Rebel         119    Mage          Burst   \n",
       "\n",
       "    Lane Recommendation(s)  Health  Health Regen   Mana  Mana Regen  ...  \\\n",
       "118               Mid Lane    2401           6.8  540.0         4.6  ...   \n",
       "\n",
       "                                      Pasive Deskripsi  \\\n",
       "118  Astral Spheres summoned by Novaria will contin...   \n",
       "\n",
       "     Skill 1 Name Abilities  Skill 1 Ability  \\\n",
       "118           Astral Meteor         Slow AoE   \n",
       "\n",
       "                              Skill 1 Pasive Deskripsi  \\\n",
       "118  Novaria summons an Astral Sphere at the target...   \n",
       "\n",
       "     Skill 2 Name Abilities  Skill 2 Ability  \\\n",
       "118           Astral Recall       Burst BUFF   \n",
       "\n",
       "                              Skill 2 Pasive Deskripsi  \\\n",
       "118  Novaria summons an Astral Sphere at a distance...   \n",
       "\n",
       "     Skill 3 Name Abilities  Skill 3 Ability  \\\n",
       "118             Astral Echo             BUFF   \n",
       "\n",
       "                              Skill 3 Pasive Deskripsi  \n",
       "118  Novaria scatters Astral Echo in the target dir...  \n",
       "\n",
       "[1 rows x 34 columns]"
      ],
      "text/html": [
       "<div>\n",
       "<style scoped>\n",
       "    .dataframe tbody tr th:only-of-type {\n",
       "        vertical-align: middle;\n",
       "    }\n",
       "\n",
       "    .dataframe tbody tr th {\n",
       "        vertical-align: top;\n",
       "    }\n",
       "\n",
       "    .dataframe thead th {\n",
       "        text-align: right;\n",
       "    }\n",
       "</style>\n",
       "<table border=\"1\" class=\"dataframe\">\n",
       "  <thead>\n",
       "    <tr style=\"text-align: right;\">\n",
       "      <th></th>\n",
       "      <th>Hero</th>\n",
       "      <th>Title</th>\n",
       "      <th>Hero Order</th>\n",
       "      <th>Role(s)</th>\n",
       "      <th>Specialty(ies)</th>\n",
       "      <th>Lane Recommendation(s)</th>\n",
       "      <th>Health</th>\n",
       "      <th>Health Regen</th>\n",
       "      <th>Mana</th>\n",
       "      <th>Mana Regen</th>\n",
       "      <th>...</th>\n",
       "      <th>Pasive Deskripsi</th>\n",
       "      <th>Skill 1 Name Abilities</th>\n",
       "      <th>Skill 1 Ability</th>\n",
       "      <th>Skill 1 Pasive Deskripsi</th>\n",
       "      <th>Skill 2 Name Abilities</th>\n",
       "      <th>Skill 2 Ability</th>\n",
       "      <th>Skill 2 Pasive Deskripsi</th>\n",
       "      <th>Skill 3 Name Abilities</th>\n",
       "      <th>Skill 3 Ability</th>\n",
       "      <th>Skill 3 Pasive Deskripsi</th>\n",
       "    </tr>\n",
       "  </thead>\n",
       "  <tbody>\n",
       "    <tr>\n",
       "      <th>118</th>\n",
       "      <td>Novaria</td>\n",
       "      <td>Novaria, the Star Rebel</td>\n",
       "      <td>119</td>\n",
       "      <td>Mage</td>\n",
       "      <td>Burst</td>\n",
       "      <td>Mid Lane</td>\n",
       "      <td>2401</td>\n",
       "      <td>6.8</td>\n",
       "      <td>540.0</td>\n",
       "      <td>4.6</td>\n",
       "      <td>...</td>\n",
       "      <td>Astral Spheres summoned by Novaria will contin...</td>\n",
       "      <td>Astral Meteor</td>\n",
       "      <td>Slow AoE</td>\n",
       "      <td>Novaria summons an Astral Sphere at the target...</td>\n",
       "      <td>Astral Recall</td>\n",
       "      <td>Burst BUFF</td>\n",
       "      <td>Novaria summons an Astral Sphere at a distance...</td>\n",
       "      <td>Astral Echo</td>\n",
       "      <td>BUFF</td>\n",
       "      <td>Novaria scatters Astral Echo in the target dir...</td>\n",
       "    </tr>\n",
       "  </tbody>\n",
       "</table>\n",
       "<p>1 rows × 34 columns</p>\n",
       "</div>"
      ]
     },
     "execution_count": 248,
     "metadata": {},
     "output_type": "execute_result"
    }
   ],
   "execution_count": 248
  },
  {
   "metadata": {},
   "cell_type": "markdown",
   "source": "Hero yang mempunyai price yang hilang adalah hero yang bernama \"Novaria\". Isi nilai yang hilang dengan 32000 karena harga hero novaria di game adalah 32000.",
   "id": "aaa35f133e3a1c59"
  },
  {
   "metadata": {
    "ExecuteTime": {
     "end_time": "2024-06-04T08:03:54.836226Z",
     "start_time": "2024-06-04T08:03:54.820561Z"
    }
   },
   "cell_type": "code",
   "source": [
    "# Mengisi nilai\n",
    "clean_data['Price'].fillna(32000, inplace=True)"
   ],
   "id": "d7fad0e60d3c0177",
   "outputs": [],
   "execution_count": 249
  },
  {
   "metadata": {
    "ExecuteTime": {
     "end_time": "2024-06-04T08:03:55.787624Z",
     "start_time": "2024-06-04T08:03:55.774069Z"
    }
   },
   "cell_type": "code",
   "source": [
    "# Mengecek nilai null pada price kembali\n",
    "clean_data['Price'].isna().sum()"
   ],
   "id": "d2b57ab567f286b",
   "outputs": [
    {
     "data": {
      "text/plain": [
       "0"
      ]
     },
     "execution_count": 250,
     "metadata": {},
     "output_type": "execute_result"
    }
   ],
   "execution_count": 250
  },
  {
   "metadata": {
    "ExecuteTime": {
     "end_time": "2024-06-04T08:03:56.516554Z",
     "start_time": "2024-06-04T08:03:56.500978Z"
    }
   },
   "cell_type": "code",
   "source": [
    "# Mengecek price hero novaria\n",
    "clean_data[clean_data['Hero'] == 'Novaria'].Price"
   ],
   "id": "a0ff827a54123c4d",
   "outputs": [
    {
     "data": {
      "text/plain": [
       "118    32000.0\n",
       "Name: Price, dtype: float64"
      ]
     },
     "execution_count": 251,
     "metadata": {},
     "output_type": "execute_result"
    }
   ],
   "execution_count": 251
  },
  {
   "metadata": {},
   "cell_type": "markdown",
   "source": "#### Menyeleksi Fitur yang Dibutuhkan",
   "id": "219a47df017227c8"
  },
  {
   "metadata": {
    "ExecuteTime": {
     "end_time": "2024-06-04T08:03:58.245482Z",
     "start_time": "2024-06-04T08:03:58.229903Z"
    }
   },
   "cell_type": "code",
   "source": "clean_data.info()",
   "id": "ccb3ec4bcc8a3371",
   "outputs": [
    {
     "name": "stdout",
     "output_type": "stream",
     "text": [
      "<class 'pandas.core.frame.DataFrame'>\n",
      "RangeIndex: 123 entries, 0 to 122\n",
      "Data columns (total 34 columns):\n",
      " #   Column                    Non-Null Count  Dtype  \n",
      "---  ------                    --------------  -----  \n",
      " 0   Hero                      123 non-null    object \n",
      " 1   Title                     123 non-null    object \n",
      " 2   Hero Order                123 non-null    int64  \n",
      " 3   Role(s)                   123 non-null    object \n",
      " 4   Specialty(ies)            123 non-null    object \n",
      " 5   Lane Recommendation(s)    123 non-null    object \n",
      " 6   Health                    123 non-null    int64  \n",
      " 7   Health Regen              123 non-null    float64\n",
      " 8   Mana                      118 non-null    float64\n",
      " 9   Mana Regen                118 non-null    float64\n",
      " 10  Attack Speed              123 non-null    float64\n",
      " 11  Physical Damage           123 non-null    int64  \n",
      " 12  Magical Damage            123 non-null    int64  \n",
      " 13  Physical Defense          123 non-null    int64  \n",
      " 14  Magical Defense           123 non-null    int64  \n",
      " 15  Movement Speed            123 non-null    int64  \n",
      " 16  Energy                    6 non-null      float64\n",
      " 17  Energy Regen              6 non-null      float64\n",
      " 18  Price                     123 non-null    float64\n",
      " 19  Specialty                 120 non-null    object \n",
      " 20  Win Rate                  123 non-null    float64\n",
      " 21  Hero.1                    123 non-null    object \n",
      " 22   Name Pasive Abilities    123 non-null    object \n",
      " 23  Ability                   123 non-null    object \n",
      " 24  Pasive Deskripsi          123 non-null    object \n",
      " 25  Skill 1 Name Abilities    123 non-null    object \n",
      " 26  Skill 1 Ability           123 non-null    object \n",
      " 27  Skill 1 Pasive Deskripsi  123 non-null    object \n",
      " 28  Skill 2 Name Abilities    123 non-null    object \n",
      " 29  Skill 2 Ability           123 non-null    object \n",
      " 30  Skill 2 Pasive Deskripsi  123 non-null    object \n",
      " 31  Skill 3 Name Abilities    123 non-null    object \n",
      " 32  Skill 3 Ability           123 non-null    object \n",
      " 33  Skill 3 Pasive Deskripsi  123 non-null    object \n",
      "dtypes: float64(8), int64(7), object(19)\n",
      "memory usage: 32.8+ KB\n"
     ]
    }
   ],
   "execution_count": 252
  },
  {
   "metadata": {
    "ExecuteTime": {
     "end_time": "2024-06-04T08:08:54.514828Z",
     "start_time": "2024-06-04T08:08:54.501543Z"
    }
   },
   "cell_type": "code",
   "source": "features_needed = ['Hero', 'Health', 'Health Regen', 'Attack Speed', 'Physical Damage', 'Physical Defense', 'Magical Defense', 'Movement Speed', 'Price', 'Win Rate']",
   "id": "317dd0e4790a05c4",
   "outputs": [],
   "execution_count": 262
  },
  {
   "metadata": {
    "ExecuteTime": {
     "end_time": "2024-06-04T08:08:55.694710Z",
     "start_time": "2024-06-04T08:08:55.679209Z"
    }
   },
   "cell_type": "code",
   "source": "final_data = clean_data[features_needed].copy()",
   "id": "d559efbc91f759ed",
   "outputs": [],
   "execution_count": 263
  },
  {
   "metadata": {
    "ExecuteTime": {
     "end_time": "2024-06-04T08:08:57.338965Z",
     "start_time": "2024-06-04T08:08:57.307707Z"
    }
   },
   "cell_type": "code",
   "source": [
    "# Rename physical damage column to damage\n",
    "final_data.rename(columns={'Physical Damage': 'Damage'}, inplace=True)"
   ],
   "id": "333199b9b35ed4f5",
   "outputs": [],
   "execution_count": 264
  },
  {
   "metadata": {
    "ExecuteTime": {
     "end_time": "2024-06-04T08:08:58.487290Z",
     "start_time": "2024-06-04T08:08:58.471809Z"
    }
   },
   "cell_type": "code",
   "source": "final_data.head()",
   "id": "656dde6901b329fd",
   "outputs": [
    {
     "data": {
      "text/plain": [
       "      Hero  Health  Health Regen  Attack Speed  Damage  Physical Defense  \\\n",
       "0     Miya    2524           6.0          1.06     100                17   \n",
       "1  Balmond    2736           9.4          1.06     119                25   \n",
       "2    Saber    2599           7.0          1.08     118                20   \n",
       "3    Alice    2573           7.2          1.00     114                21   \n",
       "4     Nana    2501           6.8          1.08     115                17   \n",
       "\n",
       "   Magical Defense  Movement Speed    Price  Win Rate  \n",
       "0               15             240  10800.0     50.77  \n",
       "1               15             260   6500.0     46.75  \n",
       "2               15             260   6500.0     49.31  \n",
       "3               15             240  15000.0     49.37  \n",
       "4               15             250   6500.0     41.34  "
      ],
      "text/html": [
       "<div>\n",
       "<style scoped>\n",
       "    .dataframe tbody tr th:only-of-type {\n",
       "        vertical-align: middle;\n",
       "    }\n",
       "\n",
       "    .dataframe tbody tr th {\n",
       "        vertical-align: top;\n",
       "    }\n",
       "\n",
       "    .dataframe thead th {\n",
       "        text-align: right;\n",
       "    }\n",
       "</style>\n",
       "<table border=\"1\" class=\"dataframe\">\n",
       "  <thead>\n",
       "    <tr style=\"text-align: right;\">\n",
       "      <th></th>\n",
       "      <th>Hero</th>\n",
       "      <th>Health</th>\n",
       "      <th>Health Regen</th>\n",
       "      <th>Attack Speed</th>\n",
       "      <th>Damage</th>\n",
       "      <th>Physical Defense</th>\n",
       "      <th>Magical Defense</th>\n",
       "      <th>Movement Speed</th>\n",
       "      <th>Price</th>\n",
       "      <th>Win Rate</th>\n",
       "    </tr>\n",
       "  </thead>\n",
       "  <tbody>\n",
       "    <tr>\n",
       "      <th>0</th>\n",
       "      <td>Miya</td>\n",
       "      <td>2524</td>\n",
       "      <td>6.0</td>\n",
       "      <td>1.06</td>\n",
       "      <td>100</td>\n",
       "      <td>17</td>\n",
       "      <td>15</td>\n",
       "      <td>240</td>\n",
       "      <td>10800.0</td>\n",
       "      <td>50.77</td>\n",
       "    </tr>\n",
       "    <tr>\n",
       "      <th>1</th>\n",
       "      <td>Balmond</td>\n",
       "      <td>2736</td>\n",
       "      <td>9.4</td>\n",
       "      <td>1.06</td>\n",
       "      <td>119</td>\n",
       "      <td>25</td>\n",
       "      <td>15</td>\n",
       "      <td>260</td>\n",
       "      <td>6500.0</td>\n",
       "      <td>46.75</td>\n",
       "    </tr>\n",
       "    <tr>\n",
       "      <th>2</th>\n",
       "      <td>Saber</td>\n",
       "      <td>2599</td>\n",
       "      <td>7.0</td>\n",
       "      <td>1.08</td>\n",
       "      <td>118</td>\n",
       "      <td>20</td>\n",
       "      <td>15</td>\n",
       "      <td>260</td>\n",
       "      <td>6500.0</td>\n",
       "      <td>49.31</td>\n",
       "    </tr>\n",
       "    <tr>\n",
       "      <th>3</th>\n",
       "      <td>Alice</td>\n",
       "      <td>2573</td>\n",
       "      <td>7.2</td>\n",
       "      <td>1.00</td>\n",
       "      <td>114</td>\n",
       "      <td>21</td>\n",
       "      <td>15</td>\n",
       "      <td>240</td>\n",
       "      <td>15000.0</td>\n",
       "      <td>49.37</td>\n",
       "    </tr>\n",
       "    <tr>\n",
       "      <th>4</th>\n",
       "      <td>Nana</td>\n",
       "      <td>2501</td>\n",
       "      <td>6.8</td>\n",
       "      <td>1.08</td>\n",
       "      <td>115</td>\n",
       "      <td>17</td>\n",
       "      <td>15</td>\n",
       "      <td>250</td>\n",
       "      <td>6500.0</td>\n",
       "      <td>41.34</td>\n",
       "    </tr>\n",
       "  </tbody>\n",
       "</table>\n",
       "</div>"
      ]
     },
     "execution_count": 265,
     "metadata": {},
     "output_type": "execute_result"
    }
   ],
   "execution_count": 265
  },
  {
   "metadata": {
    "ExecuteTime": {
     "end_time": "2024-06-04T08:09:00.166826Z",
     "start_time": "2024-06-04T08:09:00.151200Z"
    }
   },
   "cell_type": "code",
   "source": "final_data.info()",
   "id": "a39bbf203ad19503",
   "outputs": [
    {
     "name": "stdout",
     "output_type": "stream",
     "text": [
      "<class 'pandas.core.frame.DataFrame'>\n",
      "RangeIndex: 123 entries, 0 to 122\n",
      "Data columns (total 10 columns):\n",
      " #   Column            Non-Null Count  Dtype  \n",
      "---  ------            --------------  -----  \n",
      " 0   Hero              123 non-null    object \n",
      " 1   Health            123 non-null    int64  \n",
      " 2   Health Regen      123 non-null    float64\n",
      " 3   Attack Speed      123 non-null    float64\n",
      " 4   Damage            123 non-null    int64  \n",
      " 5   Physical Defense  123 non-null    int64  \n",
      " 6   Magical Defense   123 non-null    int64  \n",
      " 7   Movement Speed    123 non-null    int64  \n",
      " 8   Price             123 non-null    float64\n",
      " 9   Win Rate          123 non-null    float64\n",
      "dtypes: float64(4), int64(5), object(1)\n",
      "memory usage: 9.7+ KB\n"
     ]
    }
   ],
   "execution_count": 266
  },
  {
   "metadata": {
    "ExecuteTime": {
     "end_time": "2024-06-04T08:09:00.800679Z",
     "start_time": "2024-06-04T08:09:00.762672Z"
    }
   },
   "cell_type": "code",
   "source": "final_data.describe()",
   "id": "dcc7da439fb442df",
   "outputs": [
    {
     "data": {
      "text/plain": [
       "            Health  Health Regen  Attack Speed      Damage  Physical Defense  \\\n",
       "count   123.000000    123.000000    123.000000  123.000000        123.000000   \n",
       "mean   2580.544715      7.681301      1.040650  116.065041         19.154472   \n",
       "std     207.092529      1.592161      0.059736    9.835316          3.550646   \n",
       "min     918.000000      3.800000      0.870000   90.000000         10.000000   \n",
       "25%    2501.000000      6.800000      1.000000  110.000000         17.000000   \n",
       "50%    2578.000000      7.200000      1.030000  117.000000         19.000000   \n",
       "75%    2701.000000      8.000000      1.080000  122.000000         21.500000   \n",
       "max    2909.000000     18.400000      1.220000  140.000000         27.000000   \n",
       "\n",
       "       Magical Defense  Movement Speed         Price   Win Rate  \n",
       "count       123.000000      123.000000    123.000000  123.00000  \n",
       "mean         14.878049      251.495935  28222.756098   48.74813  \n",
       "std           0.774442        8.715328   8120.532319    4.76978  \n",
       "min          10.000000      240.000000    599.000000   25.00000  \n",
       "25%          15.000000      240.000000  32000.000000   46.95500  \n",
       "50%          15.000000      252.000000  32000.000000   49.37000  \n",
       "75%          15.000000      260.000000  32000.000000   51.10500  \n",
       "max          15.000000      270.000000  32000.000000   61.11000  "
      ],
      "text/html": [
       "<div>\n",
       "<style scoped>\n",
       "    .dataframe tbody tr th:only-of-type {\n",
       "        vertical-align: middle;\n",
       "    }\n",
       "\n",
       "    .dataframe tbody tr th {\n",
       "        vertical-align: top;\n",
       "    }\n",
       "\n",
       "    .dataframe thead th {\n",
       "        text-align: right;\n",
       "    }\n",
       "</style>\n",
       "<table border=\"1\" class=\"dataframe\">\n",
       "  <thead>\n",
       "    <tr style=\"text-align: right;\">\n",
       "      <th></th>\n",
       "      <th>Health</th>\n",
       "      <th>Health Regen</th>\n",
       "      <th>Attack Speed</th>\n",
       "      <th>Damage</th>\n",
       "      <th>Physical Defense</th>\n",
       "      <th>Magical Defense</th>\n",
       "      <th>Movement Speed</th>\n",
       "      <th>Price</th>\n",
       "      <th>Win Rate</th>\n",
       "    </tr>\n",
       "  </thead>\n",
       "  <tbody>\n",
       "    <tr>\n",
       "      <th>count</th>\n",
       "      <td>123.000000</td>\n",
       "      <td>123.000000</td>\n",
       "      <td>123.000000</td>\n",
       "      <td>123.000000</td>\n",
       "      <td>123.000000</td>\n",
       "      <td>123.000000</td>\n",
       "      <td>123.000000</td>\n",
       "      <td>123.000000</td>\n",
       "      <td>123.00000</td>\n",
       "    </tr>\n",
       "    <tr>\n",
       "      <th>mean</th>\n",
       "      <td>2580.544715</td>\n",
       "      <td>7.681301</td>\n",
       "      <td>1.040650</td>\n",
       "      <td>116.065041</td>\n",
       "      <td>19.154472</td>\n",
       "      <td>14.878049</td>\n",
       "      <td>251.495935</td>\n",
       "      <td>28222.756098</td>\n",
       "      <td>48.74813</td>\n",
       "    </tr>\n",
       "    <tr>\n",
       "      <th>std</th>\n",
       "      <td>207.092529</td>\n",
       "      <td>1.592161</td>\n",
       "      <td>0.059736</td>\n",
       "      <td>9.835316</td>\n",
       "      <td>3.550646</td>\n",
       "      <td>0.774442</td>\n",
       "      <td>8.715328</td>\n",
       "      <td>8120.532319</td>\n",
       "      <td>4.76978</td>\n",
       "    </tr>\n",
       "    <tr>\n",
       "      <th>min</th>\n",
       "      <td>918.000000</td>\n",
       "      <td>3.800000</td>\n",
       "      <td>0.870000</td>\n",
       "      <td>90.000000</td>\n",
       "      <td>10.000000</td>\n",
       "      <td>10.000000</td>\n",
       "      <td>240.000000</td>\n",
       "      <td>599.000000</td>\n",
       "      <td>25.00000</td>\n",
       "    </tr>\n",
       "    <tr>\n",
       "      <th>25%</th>\n",
       "      <td>2501.000000</td>\n",
       "      <td>6.800000</td>\n",
       "      <td>1.000000</td>\n",
       "      <td>110.000000</td>\n",
       "      <td>17.000000</td>\n",
       "      <td>15.000000</td>\n",
       "      <td>240.000000</td>\n",
       "      <td>32000.000000</td>\n",
       "      <td>46.95500</td>\n",
       "    </tr>\n",
       "    <tr>\n",
       "      <th>50%</th>\n",
       "      <td>2578.000000</td>\n",
       "      <td>7.200000</td>\n",
       "      <td>1.030000</td>\n",
       "      <td>117.000000</td>\n",
       "      <td>19.000000</td>\n",
       "      <td>15.000000</td>\n",
       "      <td>252.000000</td>\n",
       "      <td>32000.000000</td>\n",
       "      <td>49.37000</td>\n",
       "    </tr>\n",
       "    <tr>\n",
       "      <th>75%</th>\n",
       "      <td>2701.000000</td>\n",
       "      <td>8.000000</td>\n",
       "      <td>1.080000</td>\n",
       "      <td>122.000000</td>\n",
       "      <td>21.500000</td>\n",
       "      <td>15.000000</td>\n",
       "      <td>260.000000</td>\n",
       "      <td>32000.000000</td>\n",
       "      <td>51.10500</td>\n",
       "    </tr>\n",
       "    <tr>\n",
       "      <th>max</th>\n",
       "      <td>2909.000000</td>\n",
       "      <td>18.400000</td>\n",
       "      <td>1.220000</td>\n",
       "      <td>140.000000</td>\n",
       "      <td>27.000000</td>\n",
       "      <td>15.000000</td>\n",
       "      <td>270.000000</td>\n",
       "      <td>32000.000000</td>\n",
       "      <td>61.11000</td>\n",
       "    </tr>\n",
       "  </tbody>\n",
       "</table>\n",
       "</div>"
      ]
     },
     "execution_count": 267,
     "metadata": {},
     "output_type": "execute_result"
    }
   ],
   "execution_count": 267
  },
  {
   "metadata": {
    "ExecuteTime": {
     "end_time": "2024-06-04T08:09:02.032805Z",
     "start_time": "2024-06-04T08:09:02.017798Z"
    }
   },
   "cell_type": "code",
   "source": [
    "# Simpan data yang sudah final\n",
    "final_data.to_csv('./data/final_data.csv', index=False)"
   ],
   "id": "875ff3fe23d5c865",
   "outputs": [],
   "execution_count": 268
  },
  {
   "metadata": {},
   "cell_type": "code",
   "outputs": [],
   "execution_count": null,
   "source": "",
   "id": "47516e6862291422"
  }
 ],
 "metadata": {
  "kernelspec": {
   "display_name": "Python 3",
   "language": "python",
   "name": "python3"
  },
  "language_info": {
   "codemirror_mode": {
    "name": "ipython",
    "version": 2
   },
   "file_extension": ".py",
   "mimetype": "text/x-python",
   "name": "python",
   "nbconvert_exporter": "python",
   "pygments_lexer": "ipython2",
   "version": "2.7.6"
  }
 },
 "nbformat": 4,
 "nbformat_minor": 5
}
