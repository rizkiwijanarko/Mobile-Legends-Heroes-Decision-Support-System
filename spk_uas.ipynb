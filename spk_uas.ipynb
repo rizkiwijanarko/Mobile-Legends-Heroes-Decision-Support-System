{
 "cells": [
  {
   "cell_type": "markdown",
   "id": "b2ec0a61bb13dd2d",
   "metadata": {},
   "source": [
    "# Penerapan Metode AHP dan SAW dalam Pemilihan Hero Mobile Legend pada MPL Season 13"
   ]
  },
  {
   "cell_type": "markdown",
   "id": "28447a074e326a10",
   "metadata": {},
   "source": [
    "Dataset source: https://www.kaggle.com/datasets/bcakra/tournamnet-result-match-of-mpl-indonesia-season-13?select=MPL+Indonesia+Season+13+-+Hero_Role.csv"
   ]
  },
  {
   "cell_type": "markdown",
   "id": "6e1aaff837b49fa9",
   "metadata": {},
   "source": [
    "## Data Wrangling"
   ]
  },
  {
   "cell_type": "markdown",
   "id": "cef8b74c2645ea90",
   "metadata": {},
   "source": [
    "### Loading Data"
   ]
  },
  {
   "cell_type": "code",
   "id": "initial_id",
   "metadata": {
    "collapsed": true,
    "ExecuteTime": {
     "end_time": "2024-06-10T17:49:09.260761Z",
     "start_time": "2024-06-10T17:49:09.242743Z"
    }
   },
   "source": [
    "# Import libraries\n",
    "import pandas as pd\n",
    "import numpy as np"
   ],
   "outputs": [],
   "execution_count": 157
  },
  {
   "cell_type": "code",
   "id": "f749586904555f22",
   "metadata": {
    "ExecuteTime": {
     "end_time": "2024-06-10T17:49:09.532740Z",
     "start_time": "2024-06-10T17:49:09.502532Z"
    }
   },
   "source": [
    "# Load the data\n",
    "data = pd.read_csv('data/MPL Indonesia Season 13 - Hero_Role.csv')\n",
    "data.head()"
   ],
   "outputs": [
    {
     "data": {
      "text/plain": [
       "      Hero                       Title  Hero Order    Role(s) Specialty(ies)  \\\n",
       "0     Miya  Miya, the Moonlight Archer           1   Marksman       Finisher   \n",
       "1  Balmond   Balmond, the Bloody Beast           2    Fighter         Damage   \n",
       "2    Saber  Saber, the Wandering Sword           3   Assassin         Charge   \n",
       "3    Alice   Alice, the Queen of Blood           4  Mage/Tank   Charge/Regen   \n",
       "4     Nana      Nana, the Sweet Leonin           5       Mage           Poke   \n",
       "\n",
       "  Lane Recommendation(s)  Health  Health Regen   Mana  Mana Regen  ...  \\\n",
       "0              Gold Lane    2524           6.0  445.0        15.0  ...   \n",
       "1      Jungling/EXP Lane    2736           9.4    0.0         0.0  ...   \n",
       "2               Jungling    2599           7.0  443.0        16.0  ...   \n",
       "3      EXP Lane/Mid Lane    2573           7.2  493.0        18.0  ...   \n",
       "4       Mid Lane/Roaming    2501           6.8  510.0        18.0  ...   \n",
       "\n",
       "                                    Pasive Deskripsi  Skill 1 Name Abilities  \\\n",
       "0  Miya gains 5% extra Attack Speed for 4s each t...              Moon Arrow   \n",
       "1  Balmond recovers 5% Max HP on minion or creep ...               Soul Lock   \n",
       "2  Saber's attacks reduce enemies' Physical Defen...         Orbiting Swords   \n",
       "3  A blood orb will be generated each time an ene...           Flowing Blood   \n",
       "4  Upon taking fatal damage, Nana removes all deb...         Magic Boomerang   \n",
       "\n",
       "   Skill 1 Ability                           Skill 1 Pasive Deskripsi  \\\n",
       "0         BUFF AoE  Miya shoots two extra arrows on each Basic Att...   \n",
       "1       Blink Slow  Balmond charges in the target direction for a ...   \n",
       "2         AoE BUFF  Saber releases 5 swords that orbit around him ...   \n",
       "3        Blink AoE  Alice casts a sphere of blood energy in the ta...   \n",
       "4              AoE  Nana hurls her Magic Boomerang in the target d...   \n",
       "\n",
       "   Skill 2 Name Abilities  Skill 2 Ability  \\\n",
       "0        Arrow of Eclipse           CC AoE   \n",
       "1           Cyclone Sweep         AoE BUFF   \n",
       "2                  Charge        Blink AoE   \n",
       "3               Blood Awe           CC AoE   \n",
       "4           Molina Smooch        CC Debuff   \n",
       "\n",
       "                            Skill 2 Pasive Deskripsi  Skill 3 Name Abilities  \\\n",
       "0  Miya launches an empowered arrow on the target...        Hidden Moonlight   \n",
       "1  Balmond spins with his axe for 3s, continuousl...          Lethal Counter   \n",
       "2  Saber dashes in the target direction, dealing ...            Triple Sweep   \n",
       "3  Alice deals 270(+90%Total Magic Power) Magic D...               Blood Ode   \n",
       "4  Nana sends Molina to the target location, who ...            Molina Blitz   \n",
       "\n",
       "     Skill 3 Ability                           Skill 3 Pasive Deskripsi  \n",
       "0  Conceal Remove CC  Miya removes all debuffs on her and conceals h...  \n",
       "1         Burst Slow  After a short delay, Balmond smashes his axe i...  \n",
       "2           Burst CC  Saber charges at the target enemy hero, knocki...  \n",
       "3           AoE HEAL  Alice enters the blood-draining state, consumi...  \n",
       "4           Burst CC  Nana summons Molina to attack the target area ...  \n",
       "\n",
       "[5 rows x 34 columns]"
      ],
      "text/html": [
       "<div>\n",
       "<style scoped>\n",
       "    .dataframe tbody tr th:only-of-type {\n",
       "        vertical-align: middle;\n",
       "    }\n",
       "\n",
       "    .dataframe tbody tr th {\n",
       "        vertical-align: top;\n",
       "    }\n",
       "\n",
       "    .dataframe thead th {\n",
       "        text-align: right;\n",
       "    }\n",
       "</style>\n",
       "<table border=\"1\" class=\"dataframe\">\n",
       "  <thead>\n",
       "    <tr style=\"text-align: right;\">\n",
       "      <th></th>\n",
       "      <th>Hero</th>\n",
       "      <th>Title</th>\n",
       "      <th>Hero Order</th>\n",
       "      <th>Role(s)</th>\n",
       "      <th>Specialty(ies)</th>\n",
       "      <th>Lane Recommendation(s)</th>\n",
       "      <th>Health</th>\n",
       "      <th>Health Regen</th>\n",
       "      <th>Mana</th>\n",
       "      <th>Mana Regen</th>\n",
       "      <th>...</th>\n",
       "      <th>Pasive Deskripsi</th>\n",
       "      <th>Skill 1 Name Abilities</th>\n",
       "      <th>Skill 1 Ability</th>\n",
       "      <th>Skill 1 Pasive Deskripsi</th>\n",
       "      <th>Skill 2 Name Abilities</th>\n",
       "      <th>Skill 2 Ability</th>\n",
       "      <th>Skill 2 Pasive Deskripsi</th>\n",
       "      <th>Skill 3 Name Abilities</th>\n",
       "      <th>Skill 3 Ability</th>\n",
       "      <th>Skill 3 Pasive Deskripsi</th>\n",
       "    </tr>\n",
       "  </thead>\n",
       "  <tbody>\n",
       "    <tr>\n",
       "      <th>0</th>\n",
       "      <td>Miya</td>\n",
       "      <td>Miya, the Moonlight Archer</td>\n",
       "      <td>1</td>\n",
       "      <td>Marksman</td>\n",
       "      <td>Finisher</td>\n",
       "      <td>Gold Lane</td>\n",
       "      <td>2524</td>\n",
       "      <td>6.0</td>\n",
       "      <td>445.0</td>\n",
       "      <td>15.0</td>\n",
       "      <td>...</td>\n",
       "      <td>Miya gains 5% extra Attack Speed for 4s each t...</td>\n",
       "      <td>Moon Arrow</td>\n",
       "      <td>BUFF AoE</td>\n",
       "      <td>Miya shoots two extra arrows on each Basic Att...</td>\n",
       "      <td>Arrow of Eclipse</td>\n",
       "      <td>CC AoE</td>\n",
       "      <td>Miya launches an empowered arrow on the target...</td>\n",
       "      <td>Hidden Moonlight</td>\n",
       "      <td>Conceal Remove CC</td>\n",
       "      <td>Miya removes all debuffs on her and conceals h...</td>\n",
       "    </tr>\n",
       "    <tr>\n",
       "      <th>1</th>\n",
       "      <td>Balmond</td>\n",
       "      <td>Balmond, the Bloody Beast</td>\n",
       "      <td>2</td>\n",
       "      <td>Fighter</td>\n",
       "      <td>Damage</td>\n",
       "      <td>Jungling/EXP Lane</td>\n",
       "      <td>2736</td>\n",
       "      <td>9.4</td>\n",
       "      <td>0.0</td>\n",
       "      <td>0.0</td>\n",
       "      <td>...</td>\n",
       "      <td>Balmond recovers 5% Max HP on minion or creep ...</td>\n",
       "      <td>Soul Lock</td>\n",
       "      <td>Blink Slow</td>\n",
       "      <td>Balmond charges in the target direction for a ...</td>\n",
       "      <td>Cyclone Sweep</td>\n",
       "      <td>AoE BUFF</td>\n",
       "      <td>Balmond spins with his axe for 3s, continuousl...</td>\n",
       "      <td>Lethal Counter</td>\n",
       "      <td>Burst Slow</td>\n",
       "      <td>After a short delay, Balmond smashes his axe i...</td>\n",
       "    </tr>\n",
       "    <tr>\n",
       "      <th>2</th>\n",
       "      <td>Saber</td>\n",
       "      <td>Saber, the Wandering Sword</td>\n",
       "      <td>3</td>\n",
       "      <td>Assassin</td>\n",
       "      <td>Charge</td>\n",
       "      <td>Jungling</td>\n",
       "      <td>2599</td>\n",
       "      <td>7.0</td>\n",
       "      <td>443.0</td>\n",
       "      <td>16.0</td>\n",
       "      <td>...</td>\n",
       "      <td>Saber's attacks reduce enemies' Physical Defen...</td>\n",
       "      <td>Orbiting Swords</td>\n",
       "      <td>AoE BUFF</td>\n",
       "      <td>Saber releases 5 swords that orbit around him ...</td>\n",
       "      <td>Charge</td>\n",
       "      <td>Blink AoE</td>\n",
       "      <td>Saber dashes in the target direction, dealing ...</td>\n",
       "      <td>Triple Sweep</td>\n",
       "      <td>Burst CC</td>\n",
       "      <td>Saber charges at the target enemy hero, knocki...</td>\n",
       "    </tr>\n",
       "    <tr>\n",
       "      <th>3</th>\n",
       "      <td>Alice</td>\n",
       "      <td>Alice, the Queen of Blood</td>\n",
       "      <td>4</td>\n",
       "      <td>Mage/Tank</td>\n",
       "      <td>Charge/Regen</td>\n",
       "      <td>EXP Lane/Mid Lane</td>\n",
       "      <td>2573</td>\n",
       "      <td>7.2</td>\n",
       "      <td>493.0</td>\n",
       "      <td>18.0</td>\n",
       "      <td>...</td>\n",
       "      <td>A blood orb will be generated each time an ene...</td>\n",
       "      <td>Flowing Blood</td>\n",
       "      <td>Blink AoE</td>\n",
       "      <td>Alice casts a sphere of blood energy in the ta...</td>\n",
       "      <td>Blood Awe</td>\n",
       "      <td>CC AoE</td>\n",
       "      <td>Alice deals 270(+90%Total Magic Power) Magic D...</td>\n",
       "      <td>Blood Ode</td>\n",
       "      <td>AoE HEAL</td>\n",
       "      <td>Alice enters the blood-draining state, consumi...</td>\n",
       "    </tr>\n",
       "    <tr>\n",
       "      <th>4</th>\n",
       "      <td>Nana</td>\n",
       "      <td>Nana, the Sweet Leonin</td>\n",
       "      <td>5</td>\n",
       "      <td>Mage</td>\n",
       "      <td>Poke</td>\n",
       "      <td>Mid Lane/Roaming</td>\n",
       "      <td>2501</td>\n",
       "      <td>6.8</td>\n",
       "      <td>510.0</td>\n",
       "      <td>18.0</td>\n",
       "      <td>...</td>\n",
       "      <td>Upon taking fatal damage, Nana removes all deb...</td>\n",
       "      <td>Magic Boomerang</td>\n",
       "      <td>AoE</td>\n",
       "      <td>Nana hurls her Magic Boomerang in the target d...</td>\n",
       "      <td>Molina Smooch</td>\n",
       "      <td>CC Debuff</td>\n",
       "      <td>Nana sends Molina to the target location, who ...</td>\n",
       "      <td>Molina Blitz</td>\n",
       "      <td>Burst CC</td>\n",
       "      <td>Nana summons Molina to attack the target area ...</td>\n",
       "    </tr>\n",
       "  </tbody>\n",
       "</table>\n",
       "<p>5 rows × 34 columns</p>\n",
       "</div>"
      ]
     },
     "execution_count": 158,
     "metadata": {},
     "output_type": "execute_result"
    }
   ],
   "execution_count": 158
  },
  {
   "cell_type": "markdown",
   "id": "32fbab85145f2992",
   "metadata": {},
   "source": [
    "### Assessing Data"
   ]
  },
  {
   "cell_type": "code",
   "id": "2464a4f5ade02644",
   "metadata": {
    "ExecuteTime": {
     "end_time": "2024-06-10T17:49:09.860820Z",
     "start_time": "2024-06-10T17:49:09.844861Z"
    }
   },
   "source": [
    "# Check the shape of the data\n",
    "data.info()"
   ],
   "outputs": [
    {
     "name": "stdout",
     "output_type": "stream",
     "text": [
      "<class 'pandas.core.frame.DataFrame'>\n",
      "RangeIndex: 123 entries, 0 to 122\n",
      "Data columns (total 34 columns):\n",
      " #   Column                    Non-Null Count  Dtype  \n",
      "---  ------                    --------------  -----  \n",
      " 0   Hero                      123 non-null    object \n",
      " 1   Title                     123 non-null    object \n",
      " 2   Hero Order                123 non-null    int64  \n",
      " 3   Role(s)                   123 non-null    object \n",
      " 4   Specialty(ies)            123 non-null    object \n",
      " 5   Lane Recommendation(s)    123 non-null    object \n",
      " 6   Health                    123 non-null    int64  \n",
      " 7   Health Regen              123 non-null    float64\n",
      " 8   Mana                      118 non-null    float64\n",
      " 9   Mana Regen                118 non-null    float64\n",
      " 10  Attack Speed              123 non-null    object \n",
      " 11  Physical Damage           123 non-null    int64  \n",
      " 12  Magical Damage            123 non-null    int64  \n",
      " 13  Physical Defense          123 non-null    int64  \n",
      " 14  Magical Defense           123 non-null    int64  \n",
      " 15  Movement Speed            123 non-null    int64  \n",
      " 16  Energy                    6 non-null      float64\n",
      " 17  Energy Regen              6 non-null      float64\n",
      " 18  Price                     122 non-null    object \n",
      " 19  Specialty                 120 non-null    object \n",
      " 20  Win Rate                  123 non-null    object \n",
      " 21  Hero.1                    123 non-null    object \n",
      " 22   Name Pasive Abilities    123 non-null    object \n",
      " 23  Ability                   123 non-null    object \n",
      " 24  Pasive Deskripsi          123 non-null    object \n",
      " 25  Skill 1 Name Abilities    123 non-null    object \n",
      " 26  Skill 1 Ability           123 non-null    object \n",
      " 27  Skill 1 Pasive Deskripsi  123 non-null    object \n",
      " 28  Skill 2 Name Abilities    123 non-null    object \n",
      " 29  Skill 2 Ability           123 non-null    object \n",
      " 30  Skill 2 Pasive Deskripsi  123 non-null    object \n",
      " 31  Skill 3 Name Abilities    123 non-null    object \n",
      " 32  Skill 3 Ability           123 non-null    object \n",
      " 33  Skill 3 Pasive Deskripsi  123 non-null    object \n",
      "dtypes: float64(5), int64(7), object(22)\n",
      "memory usage: 32.8+ KB\n"
     ]
    }
   ],
   "execution_count": 159
  },
  {
   "cell_type": "markdown",
   "id": "4baeedb0ef9ef0e0",
   "metadata": {},
   "source": [
    "Total 34 kolom dan 123 entri hero. Terdapat beberapa tipe data pada kolom krusial yang belum sesuai, seperti win rate, price, dan attack speed."
   ]
  },
  {
   "cell_type": "code",
   "id": "3d5b6ea3ccfc7d24",
   "metadata": {
    "ExecuteTime": {
     "end_time": "2024-06-10T17:49:10.238613Z",
     "start_time": "2024-06-10T17:49:10.212253Z"
    }
   },
   "source": [
    "data.nunique()"
   ],
   "outputs": [
    {
     "data": {
      "text/plain": [
       "Hero                        123\n",
       "Title                       123\n",
       "Hero Order                  123\n",
       "Role(s)                      24\n",
       "Specialty(ies)               40\n",
       "Lane Recommendation(s)       18\n",
       "Health                       83\n",
       "Health Regen                 26\n",
       "Mana                         43\n",
       "Mana Regen                   19\n",
       "Attack Speed                 35\n",
       "Physical Damage              31\n",
       "Magical Damage                1\n",
       "Physical Defense             16\n",
       "Magical Defense               2\n",
       "Movement Speed               13\n",
       "Energy                        1\n",
       "Energy Regen                  5\n",
       "Price                        13\n",
       "Specialty                    61\n",
       "Win Rate                    123\n",
       "Hero.1                      123\n",
       " Name Pasive Abilities      123\n",
       "Ability                      30\n",
       "Pasive Deskripsi            123\n",
       "Skill 1 Name Abilities      123\n",
       "Skill 1 Ability              41\n",
       "Skill 1 Pasive Deskripsi    123\n",
       "Skill 2 Name Abilities      123\n",
       "Skill 2 Ability              59\n",
       "Skill 2 Pasive Deskripsi    123\n",
       "Skill 3 Name Abilities      123\n",
       "Skill 3 Ability              64\n",
       "Skill 3 Pasive Deskripsi    123\n",
       "dtype: int64"
      ]
     },
     "execution_count": 160,
     "metadata": {},
     "output_type": "execute_result"
    }
   ],
   "execution_count": 160
  },
  {
   "cell_type": "code",
   "id": "41ec8527f80219a5",
   "metadata": {
    "ExecuteTime": {
     "end_time": "2024-06-10T17:49:10.354510Z",
     "start_time": "2024-06-10T17:49:10.342445Z"
    }
   },
   "source": [
    "# Mengecek nilai null\n",
    "data.isna().sum()"
   ],
   "outputs": [
    {
     "data": {
      "text/plain": [
       "Hero                          0\n",
       "Title                         0\n",
       "Hero Order                    0\n",
       "Role(s)                       0\n",
       "Specialty(ies)                0\n",
       "Lane Recommendation(s)        0\n",
       "Health                        0\n",
       "Health Regen                  0\n",
       "Mana                          5\n",
       "Mana Regen                    5\n",
       "Attack Speed                  0\n",
       "Physical Damage               0\n",
       "Magical Damage                0\n",
       "Physical Defense              0\n",
       "Magical Defense               0\n",
       "Movement Speed                0\n",
       "Energy                      117\n",
       "Energy Regen                117\n",
       "Price                         1\n",
       "Specialty                     3\n",
       "Win Rate                      0\n",
       "Hero.1                        0\n",
       " Name Pasive Abilities        0\n",
       "Ability                       0\n",
       "Pasive Deskripsi              0\n",
       "Skill 1 Name Abilities        0\n",
       "Skill 1 Ability               0\n",
       "Skill 1 Pasive Deskripsi      0\n",
       "Skill 2 Name Abilities        0\n",
       "Skill 2 Ability               0\n",
       "Skill 2 Pasive Deskripsi      0\n",
       "Skill 3 Name Abilities        0\n",
       "Skill 3 Ability               0\n",
       "Skill 3 Pasive Deskripsi      0\n",
       "dtype: int64"
      ]
     },
     "execution_count": 161,
     "metadata": {},
     "output_type": "execute_result"
    }
   ],
   "execution_count": 161
  },
  {
   "cell_type": "markdown",
   "id": "751b08d3f9a261ec",
   "metadata": {},
   "source": [
    "Terdapat 5 entri hero yang tidak menggunakan mana/mana regen melainkan energi/regen. 1 entri hero juga yang pricenya null. Untuk kolom specialty, dikarenakan tidak relevant dengan tujuan yg dicapai maka abaikan saja"
   ]
  },
  {
   "cell_type": "code",
   "id": "5bdef9b565fe1e36",
   "metadata": {
    "ExecuteTime": {
     "end_time": "2024-06-10T17:49:10.788845Z",
     "start_time": "2024-06-10T17:49:10.748877Z"
    }
   },
   "source": [
    "data.describe()"
   ],
   "outputs": [
    {
     "data": {
      "text/plain": [
       "       Hero Order       Health  Health Regen        Mana  Mana Regen  \\\n",
       "count  123.000000   123.000000    123.000000  118.000000  118.000000   \n",
       "mean    62.000000  2580.544715      7.681301  347.211864   12.708475   \n",
       "std     35.651087   207.092529      1.592161  214.532322    8.567745   \n",
       "min      1.000000   918.000000      3.800000    0.000000    0.000000   \n",
       "25%     31.500000  2501.000000      6.800000    0.000000    0.000000   \n",
       "50%     62.000000  2578.000000      7.200000  440.000000   15.000000   \n",
       "75%     92.500000  2701.000000      8.000000  490.000000   18.000000   \n",
       "max    123.000000  2909.000000     18.400000  750.000000   31.000000   \n",
       "\n",
       "       Physical Damage  Magical Damage  Physical Defense  Magical Defense  \\\n",
       "count       123.000000           123.0        123.000000       123.000000   \n",
       "mean        116.065041             0.0         19.154472        14.878049   \n",
       "std           9.835316             0.0          3.550646         0.774442   \n",
       "min          90.000000             0.0         10.000000        10.000000   \n",
       "25%         110.000000             0.0         17.000000        15.000000   \n",
       "50%         117.000000             0.0         19.000000        15.000000   \n",
       "75%         122.000000             0.0         21.500000        15.000000   \n",
       "max         140.000000             0.0         27.000000        15.000000   \n",
       "\n",
       "       Movement Speed  Energy  Energy Regen  \n",
       "count      123.000000     6.0      6.000000  \n",
       "mean       251.495935   100.0     42.800000  \n",
       "std          8.715328     0.0     96.618425  \n",
       "min        240.000000   100.0      0.800000  \n",
       "25%        240.000000   100.0      3.250000  \n",
       "50%        252.000000   100.0      4.000000  \n",
       "75%        260.000000   100.0      4.750000  \n",
       "max        270.000000   100.0    240.000000  "
      ],
      "text/html": [
       "<div>\n",
       "<style scoped>\n",
       "    .dataframe tbody tr th:only-of-type {\n",
       "        vertical-align: middle;\n",
       "    }\n",
       "\n",
       "    .dataframe tbody tr th {\n",
       "        vertical-align: top;\n",
       "    }\n",
       "\n",
       "    .dataframe thead th {\n",
       "        text-align: right;\n",
       "    }\n",
       "</style>\n",
       "<table border=\"1\" class=\"dataframe\">\n",
       "  <thead>\n",
       "    <tr style=\"text-align: right;\">\n",
       "      <th></th>\n",
       "      <th>Hero Order</th>\n",
       "      <th>Health</th>\n",
       "      <th>Health Regen</th>\n",
       "      <th>Mana</th>\n",
       "      <th>Mana Regen</th>\n",
       "      <th>Physical Damage</th>\n",
       "      <th>Magical Damage</th>\n",
       "      <th>Physical Defense</th>\n",
       "      <th>Magical Defense</th>\n",
       "      <th>Movement Speed</th>\n",
       "      <th>Energy</th>\n",
       "      <th>Energy Regen</th>\n",
       "    </tr>\n",
       "  </thead>\n",
       "  <tbody>\n",
       "    <tr>\n",
       "      <th>count</th>\n",
       "      <td>123.000000</td>\n",
       "      <td>123.000000</td>\n",
       "      <td>123.000000</td>\n",
       "      <td>118.000000</td>\n",
       "      <td>118.000000</td>\n",
       "      <td>123.000000</td>\n",
       "      <td>123.0</td>\n",
       "      <td>123.000000</td>\n",
       "      <td>123.000000</td>\n",
       "      <td>123.000000</td>\n",
       "      <td>6.0</td>\n",
       "      <td>6.000000</td>\n",
       "    </tr>\n",
       "    <tr>\n",
       "      <th>mean</th>\n",
       "      <td>62.000000</td>\n",
       "      <td>2580.544715</td>\n",
       "      <td>7.681301</td>\n",
       "      <td>347.211864</td>\n",
       "      <td>12.708475</td>\n",
       "      <td>116.065041</td>\n",
       "      <td>0.0</td>\n",
       "      <td>19.154472</td>\n",
       "      <td>14.878049</td>\n",
       "      <td>251.495935</td>\n",
       "      <td>100.0</td>\n",
       "      <td>42.800000</td>\n",
       "    </tr>\n",
       "    <tr>\n",
       "      <th>std</th>\n",
       "      <td>35.651087</td>\n",
       "      <td>207.092529</td>\n",
       "      <td>1.592161</td>\n",
       "      <td>214.532322</td>\n",
       "      <td>8.567745</td>\n",
       "      <td>9.835316</td>\n",
       "      <td>0.0</td>\n",
       "      <td>3.550646</td>\n",
       "      <td>0.774442</td>\n",
       "      <td>8.715328</td>\n",
       "      <td>0.0</td>\n",
       "      <td>96.618425</td>\n",
       "    </tr>\n",
       "    <tr>\n",
       "      <th>min</th>\n",
       "      <td>1.000000</td>\n",
       "      <td>918.000000</td>\n",
       "      <td>3.800000</td>\n",
       "      <td>0.000000</td>\n",
       "      <td>0.000000</td>\n",
       "      <td>90.000000</td>\n",
       "      <td>0.0</td>\n",
       "      <td>10.000000</td>\n",
       "      <td>10.000000</td>\n",
       "      <td>240.000000</td>\n",
       "      <td>100.0</td>\n",
       "      <td>0.800000</td>\n",
       "    </tr>\n",
       "    <tr>\n",
       "      <th>25%</th>\n",
       "      <td>31.500000</td>\n",
       "      <td>2501.000000</td>\n",
       "      <td>6.800000</td>\n",
       "      <td>0.000000</td>\n",
       "      <td>0.000000</td>\n",
       "      <td>110.000000</td>\n",
       "      <td>0.0</td>\n",
       "      <td>17.000000</td>\n",
       "      <td>15.000000</td>\n",
       "      <td>240.000000</td>\n",
       "      <td>100.0</td>\n",
       "      <td>3.250000</td>\n",
       "    </tr>\n",
       "    <tr>\n",
       "      <th>50%</th>\n",
       "      <td>62.000000</td>\n",
       "      <td>2578.000000</td>\n",
       "      <td>7.200000</td>\n",
       "      <td>440.000000</td>\n",
       "      <td>15.000000</td>\n",
       "      <td>117.000000</td>\n",
       "      <td>0.0</td>\n",
       "      <td>19.000000</td>\n",
       "      <td>15.000000</td>\n",
       "      <td>252.000000</td>\n",
       "      <td>100.0</td>\n",
       "      <td>4.000000</td>\n",
       "    </tr>\n",
       "    <tr>\n",
       "      <th>75%</th>\n",
       "      <td>92.500000</td>\n",
       "      <td>2701.000000</td>\n",
       "      <td>8.000000</td>\n",
       "      <td>490.000000</td>\n",
       "      <td>18.000000</td>\n",
       "      <td>122.000000</td>\n",
       "      <td>0.0</td>\n",
       "      <td>21.500000</td>\n",
       "      <td>15.000000</td>\n",
       "      <td>260.000000</td>\n",
       "      <td>100.0</td>\n",
       "      <td>4.750000</td>\n",
       "    </tr>\n",
       "    <tr>\n",
       "      <th>max</th>\n",
       "      <td>123.000000</td>\n",
       "      <td>2909.000000</td>\n",
       "      <td>18.400000</td>\n",
       "      <td>750.000000</td>\n",
       "      <td>31.000000</td>\n",
       "      <td>140.000000</td>\n",
       "      <td>0.0</td>\n",
       "      <td>27.000000</td>\n",
       "      <td>15.000000</td>\n",
       "      <td>270.000000</td>\n",
       "      <td>100.0</td>\n",
       "      <td>240.000000</td>\n",
       "    </tr>\n",
       "  </tbody>\n",
       "</table>\n",
       "</div>"
      ]
     },
     "execution_count": 162,
     "metadata": {},
     "output_type": "execute_result"
    }
   ],
   "execution_count": 162
  },
  {
   "cell_type": "markdown",
   "id": "d9010452463dbf68",
   "metadata": {},
   "source": [
    "- Dikarenakan kolom magical damage bernilai 0 semua dan hero magic pun mempunyai physical damage pada tabel, anggap physical damage sebagai damage universal.\n",
    "- Dikarenakan beberapa hero ada yang tidak menggunakan mana sama sekali dan beberapa hero juga menggunakan energi. Penggunaan mana,energi,mana regen, dan energi regen diabaikan saja dari kriteria."
   ]
  },
  {
   "cell_type": "code",
   "id": "43aad5f0f89f6e1c",
   "metadata": {
    "ExecuteTime": {
     "end_time": "2024-06-10T17:49:11.093810Z",
     "start_time": "2024-06-10T17:49:11.077949Z"
    }
   },
   "source": [
    "print(\"Jumlah duplikasi: \", data.duplicated().sum())"
   ],
   "outputs": [
    {
     "name": "stdout",
     "output_type": "stream",
     "text": [
      "Jumlah duplikasi:  0\n"
     ]
    }
   ],
   "execution_count": 163
  },
  {
   "cell_type": "markdown",
   "id": "af0c1eb8c54259a5",
   "metadata": {},
   "source": [
    "### Data Cleaning"
   ]
  },
  {
   "cell_type": "code",
   "id": "95571062be113dba",
   "metadata": {
    "ExecuteTime": {
     "end_time": "2024-06-10T17:49:11.456164Z",
     "start_time": "2024-06-10T17:49:11.442652Z"
    }
   },
   "source": [
    "clean_data = data.copy()"
   ],
   "outputs": [],
   "execution_count": 164
  },
  {
   "cell_type": "markdown",
   "id": "cddf5cd9699267f1",
   "metadata": {},
   "source": [
    "#### Menyesuaikan tipe data"
   ]
  },
  {
   "cell_type": "markdown",
   "id": "d806c17666a7a077",
   "metadata": {},
   "source": [
    "Mengubah tipe data win rate, price, dan attack speed menjadi float"
   ]
  },
  {
   "cell_type": "code",
   "id": "4f1d6c7676752706",
   "metadata": {
    "ExecuteTime": {
     "end_time": "2024-06-10T17:49:12.044215Z",
     "start_time": "2024-06-10T17:49:12.028253Z"
    }
   },
   "source": [
    "# Mengecek tipe data win rate, price, dan attack speed\n",
    "clean_data[['Win Rate', 'Price', 'Attack Speed']].dtypes"
   ],
   "outputs": [
    {
     "data": {
      "text/plain": [
       "Win Rate        object\n",
       "Price           object\n",
       "Attack Speed    object\n",
       "dtype: object"
      ]
     },
     "execution_count": 165,
     "metadata": {},
     "output_type": "execute_result"
    }
   ],
   "execution_count": 165
  },
  {
   "cell_type": "code",
   "id": "94f8a1095ce67304",
   "metadata": {
    "ExecuteTime": {
     "end_time": "2024-06-10T17:49:12.524517Z",
     "start_time": "2024-06-10T17:49:12.492597Z"
    }
   },
   "source": [
    "# Melihat entri data win rate, price, dan attack speed\n",
    "clean_data[['Attack Speed', 'Price', 'Win Rate']].head()"
   ],
   "outputs": [
    {
     "data": {
      "text/plain": [
       "  Attack Speed        Price              Win Rate\n",
       "0  1.06 ┃ 100%        10800    33W : 32L (50.77%)\n",
       "1  1.06 ┃ 100%   6500   299  453W : 516L (46.75%)\n",
       "2  1.08 ┃ 100%   6500   299  142W : 146L (49.31%)\n",
       "3     1 ┃ 100%  15000   399  513W : 526L (49.37%)\n",
       "4  1.08 ┃ 100%   6500   299   74W : 105L (41.34%)"
      ],
      "text/html": [
       "<div>\n",
       "<style scoped>\n",
       "    .dataframe tbody tr th:only-of-type {\n",
       "        vertical-align: middle;\n",
       "    }\n",
       "\n",
       "    .dataframe tbody tr th {\n",
       "        vertical-align: top;\n",
       "    }\n",
       "\n",
       "    .dataframe thead th {\n",
       "        text-align: right;\n",
       "    }\n",
       "</style>\n",
       "<table border=\"1\" class=\"dataframe\">\n",
       "  <thead>\n",
       "    <tr style=\"text-align: right;\">\n",
       "      <th></th>\n",
       "      <th>Attack Speed</th>\n",
       "      <th>Price</th>\n",
       "      <th>Win Rate</th>\n",
       "    </tr>\n",
       "  </thead>\n",
       "  <tbody>\n",
       "    <tr>\n",
       "      <th>0</th>\n",
       "      <td>1.06 ┃ 100%</td>\n",
       "      <td>10800</td>\n",
       "      <td>33W : 32L (50.77%)</td>\n",
       "    </tr>\n",
       "    <tr>\n",
       "      <th>1</th>\n",
       "      <td>1.06 ┃ 100%</td>\n",
       "      <td>6500   299</td>\n",
       "      <td>453W : 516L (46.75%)</td>\n",
       "    </tr>\n",
       "    <tr>\n",
       "      <th>2</th>\n",
       "      <td>1.08 ┃ 100%</td>\n",
       "      <td>6500   299</td>\n",
       "      <td>142W : 146L (49.31%)</td>\n",
       "    </tr>\n",
       "    <tr>\n",
       "      <th>3</th>\n",
       "      <td>1 ┃ 100%</td>\n",
       "      <td>15000   399</td>\n",
       "      <td>513W : 526L (49.37%)</td>\n",
       "    </tr>\n",
       "    <tr>\n",
       "      <th>4</th>\n",
       "      <td>1.08 ┃ 100%</td>\n",
       "      <td>6500   299</td>\n",
       "      <td>74W : 105L (41.34%)</td>\n",
       "    </tr>\n",
       "  </tbody>\n",
       "</table>\n",
       "</div>"
      ]
     },
     "execution_count": 166,
     "metadata": {},
     "output_type": "execute_result"
    }
   ],
   "execution_count": 166
  },
  {
   "cell_type": "code",
   "id": "7b11e6c80cee5d5b",
   "metadata": {
    "ExecuteTime": {
     "end_time": "2024-06-10T17:49:13.071552Z",
     "start_time": "2024-06-10T17:49:13.052326Z"
    }
   },
   "source": [
    "# Mengganti nilai data attack speed\n",
    "clean_data['Attack Speed'] = clean_data['Attack Speed'].str.split('┃').str[0].astype(float)"
   ],
   "outputs": [],
   "execution_count": 167
  },
  {
   "cell_type": "code",
   "id": "23576a8bd20f94fa",
   "metadata": {
    "ExecuteTime": {
     "end_time": "2024-06-10T17:49:14.161793Z",
     "start_time": "2024-06-10T17:49:14.146586Z"
    }
   },
   "source": [
    "# Mengganti nilai data win rate\n",
    "clean_data['Win Rate'] = clean_data['Win Rate'].str.extract(r'(\\d+(\\.\\d+)?)%\\)$')[0].astype(float)"
   ],
   "outputs": [],
   "execution_count": 168
  },
  {
   "cell_type": "code",
   "id": "4bc4f138ecfd2e26",
   "metadata": {
    "ExecuteTime": {
     "end_time": "2024-06-10T17:49:14.621189Z",
     "start_time": "2024-06-10T17:49:14.582488Z"
    }
   },
   "source": [
    "# Mengganti nilai data price\n",
    "clean_data['Price'] = clean_data['Price'].str.split().str[0].astype(float)"
   ],
   "outputs": [],
   "execution_count": 169
  },
  {
   "cell_type": "code",
   "id": "e1e0e0aec372c83a",
   "metadata": {
    "ExecuteTime": {
     "end_time": "2024-06-10T17:49:15.007421Z",
     "start_time": "2024-06-10T17:49:14.975570Z"
    }
   },
   "source": [
    "# Melihat entri data win rate, price, dan attack speed\n",
    "clean_data[['Attack Speed', 'Price', 'Win Rate']].head()"
   ],
   "outputs": [
    {
     "data": {
      "text/plain": [
       "   Attack Speed    Price  Win Rate\n",
       "0          1.06  10800.0     50.77\n",
       "1          1.06   6500.0     46.75\n",
       "2          1.08   6500.0     49.31\n",
       "3          1.00  15000.0     49.37\n",
       "4          1.08   6500.0     41.34"
      ],
      "text/html": [
       "<div>\n",
       "<style scoped>\n",
       "    .dataframe tbody tr th:only-of-type {\n",
       "        vertical-align: middle;\n",
       "    }\n",
       "\n",
       "    .dataframe tbody tr th {\n",
       "        vertical-align: top;\n",
       "    }\n",
       "\n",
       "    .dataframe thead th {\n",
       "        text-align: right;\n",
       "    }\n",
       "</style>\n",
       "<table border=\"1\" class=\"dataframe\">\n",
       "  <thead>\n",
       "    <tr style=\"text-align: right;\">\n",
       "      <th></th>\n",
       "      <th>Attack Speed</th>\n",
       "      <th>Price</th>\n",
       "      <th>Win Rate</th>\n",
       "    </tr>\n",
       "  </thead>\n",
       "  <tbody>\n",
       "    <tr>\n",
       "      <th>0</th>\n",
       "      <td>1.06</td>\n",
       "      <td>10800.0</td>\n",
       "      <td>50.77</td>\n",
       "    </tr>\n",
       "    <tr>\n",
       "      <th>1</th>\n",
       "      <td>1.06</td>\n",
       "      <td>6500.0</td>\n",
       "      <td>46.75</td>\n",
       "    </tr>\n",
       "    <tr>\n",
       "      <th>2</th>\n",
       "      <td>1.08</td>\n",
       "      <td>6500.0</td>\n",
       "      <td>49.31</td>\n",
       "    </tr>\n",
       "    <tr>\n",
       "      <th>3</th>\n",
       "      <td>1.00</td>\n",
       "      <td>15000.0</td>\n",
       "      <td>49.37</td>\n",
       "    </tr>\n",
       "    <tr>\n",
       "      <th>4</th>\n",
       "      <td>1.08</td>\n",
       "      <td>6500.0</td>\n",
       "      <td>41.34</td>\n",
       "    </tr>\n",
       "  </tbody>\n",
       "</table>\n",
       "</div>"
      ]
     },
     "execution_count": 170,
     "metadata": {},
     "output_type": "execute_result"
    }
   ],
   "execution_count": 170
  },
  {
   "cell_type": "code",
   "id": "e70510c1c9c0a568",
   "metadata": {
    "ExecuteTime": {
     "end_time": "2024-06-10T17:49:15.070437Z",
     "start_time": "2024-06-10T17:49:15.052321Z"
    }
   },
   "source": [
    "# Mengecek Tipe Data\n",
    "clean_data[['Win Rate', 'Price', 'Attack Speed']].dtypes"
   ],
   "outputs": [
    {
     "data": {
      "text/plain": [
       "Win Rate        float64\n",
       "Price           float64\n",
       "Attack Speed    float64\n",
       "dtype: object"
      ]
     },
     "execution_count": 171,
     "metadata": {},
     "output_type": "execute_result"
    }
   ],
   "execution_count": 171
  },
  {
   "cell_type": "markdown",
   "id": "aef05ed9039aadca",
   "metadata": {},
   "source": [
    "#### Mengisi nilai price yang hilang"
   ]
  },
  {
   "cell_type": "code",
   "id": "2692b9867b80146e",
   "metadata": {
    "ExecuteTime": {
     "end_time": "2024-06-10T17:49:15.466541Z",
     "start_time": "2024-06-10T17:49:15.442422Z"
    }
   },
   "source": [
    "# Melihat hero yang mempunyai price yang hilang.\n",
    "clean_data[clean_data['Price'].isna()]"
   ],
   "outputs": [
    {
     "data": {
      "text/plain": [
       "        Hero                    Title  Hero Order Role(s) Specialty(ies)  \\\n",
       "118  Novaria  Novaria, the Star Rebel         119    Mage          Burst   \n",
       "\n",
       "    Lane Recommendation(s)  Health  Health Regen   Mana  Mana Regen  ...  \\\n",
       "118               Mid Lane    2401           6.8  540.0         4.6  ...   \n",
       "\n",
       "                                      Pasive Deskripsi  \\\n",
       "118  Astral Spheres summoned by Novaria will contin...   \n",
       "\n",
       "     Skill 1 Name Abilities  Skill 1 Ability  \\\n",
       "118           Astral Meteor         Slow AoE   \n",
       "\n",
       "                              Skill 1 Pasive Deskripsi  \\\n",
       "118  Novaria summons an Astral Sphere at the target...   \n",
       "\n",
       "     Skill 2 Name Abilities  Skill 2 Ability  \\\n",
       "118           Astral Recall       Burst BUFF   \n",
       "\n",
       "                              Skill 2 Pasive Deskripsi  \\\n",
       "118  Novaria summons an Astral Sphere at a distance...   \n",
       "\n",
       "     Skill 3 Name Abilities  Skill 3 Ability  \\\n",
       "118             Astral Echo             BUFF   \n",
       "\n",
       "                              Skill 3 Pasive Deskripsi  \n",
       "118  Novaria scatters Astral Echo in the target dir...  \n",
       "\n",
       "[1 rows x 34 columns]"
      ],
      "text/html": [
       "<div>\n",
       "<style scoped>\n",
       "    .dataframe tbody tr th:only-of-type {\n",
       "        vertical-align: middle;\n",
       "    }\n",
       "\n",
       "    .dataframe tbody tr th {\n",
       "        vertical-align: top;\n",
       "    }\n",
       "\n",
       "    .dataframe thead th {\n",
       "        text-align: right;\n",
       "    }\n",
       "</style>\n",
       "<table border=\"1\" class=\"dataframe\">\n",
       "  <thead>\n",
       "    <tr style=\"text-align: right;\">\n",
       "      <th></th>\n",
       "      <th>Hero</th>\n",
       "      <th>Title</th>\n",
       "      <th>Hero Order</th>\n",
       "      <th>Role(s)</th>\n",
       "      <th>Specialty(ies)</th>\n",
       "      <th>Lane Recommendation(s)</th>\n",
       "      <th>Health</th>\n",
       "      <th>Health Regen</th>\n",
       "      <th>Mana</th>\n",
       "      <th>Mana Regen</th>\n",
       "      <th>...</th>\n",
       "      <th>Pasive Deskripsi</th>\n",
       "      <th>Skill 1 Name Abilities</th>\n",
       "      <th>Skill 1 Ability</th>\n",
       "      <th>Skill 1 Pasive Deskripsi</th>\n",
       "      <th>Skill 2 Name Abilities</th>\n",
       "      <th>Skill 2 Ability</th>\n",
       "      <th>Skill 2 Pasive Deskripsi</th>\n",
       "      <th>Skill 3 Name Abilities</th>\n",
       "      <th>Skill 3 Ability</th>\n",
       "      <th>Skill 3 Pasive Deskripsi</th>\n",
       "    </tr>\n",
       "  </thead>\n",
       "  <tbody>\n",
       "    <tr>\n",
       "      <th>118</th>\n",
       "      <td>Novaria</td>\n",
       "      <td>Novaria, the Star Rebel</td>\n",
       "      <td>119</td>\n",
       "      <td>Mage</td>\n",
       "      <td>Burst</td>\n",
       "      <td>Mid Lane</td>\n",
       "      <td>2401</td>\n",
       "      <td>6.8</td>\n",
       "      <td>540.0</td>\n",
       "      <td>4.6</td>\n",
       "      <td>...</td>\n",
       "      <td>Astral Spheres summoned by Novaria will contin...</td>\n",
       "      <td>Astral Meteor</td>\n",
       "      <td>Slow AoE</td>\n",
       "      <td>Novaria summons an Astral Sphere at the target...</td>\n",
       "      <td>Astral Recall</td>\n",
       "      <td>Burst BUFF</td>\n",
       "      <td>Novaria summons an Astral Sphere at a distance...</td>\n",
       "      <td>Astral Echo</td>\n",
       "      <td>BUFF</td>\n",
       "      <td>Novaria scatters Astral Echo in the target dir...</td>\n",
       "    </tr>\n",
       "  </tbody>\n",
       "</table>\n",
       "<p>1 rows × 34 columns</p>\n",
       "</div>"
      ]
     },
     "execution_count": 172,
     "metadata": {},
     "output_type": "execute_result"
    }
   ],
   "execution_count": 172
  },
  {
   "cell_type": "markdown",
   "id": "aaa35f133e3a1c59",
   "metadata": {},
   "source": [
    "Hero yang mempunyai price yang hilang adalah hero yang bernama \"Novaria\". Isi nilai yang hilang dengan 32000 karena harga hero novaria di game adalah 32000."
   ]
  },
  {
   "cell_type": "code",
   "id": "d7fad0e60d3c0177",
   "metadata": {
    "ExecuteTime": {
     "end_time": "2024-06-10T17:49:16.379060Z",
     "start_time": "2024-06-10T17:49:16.372373Z"
    }
   },
   "source": [
    "# Mengisi nilai\n",
    "clean_data['Price'].fillna(32000, inplace=True)"
   ],
   "outputs": [],
   "execution_count": 173
  },
  {
   "cell_type": "code",
   "id": "d2b57ab567f286b",
   "metadata": {
    "ExecuteTime": {
     "end_time": "2024-06-10T17:49:16.784401Z",
     "start_time": "2024-06-10T17:49:16.768489Z"
    }
   },
   "source": [
    "# Mengecek nilai null pada price kembali\n",
    "clean_data['Price'].isna().sum()"
   ],
   "outputs": [
    {
     "data": {
      "text/plain": [
       "0"
      ]
     },
     "execution_count": 174,
     "metadata": {},
     "output_type": "execute_result"
    }
   ],
   "execution_count": 174
  },
  {
   "cell_type": "code",
   "id": "a0ff827a54123c4d",
   "metadata": {
    "ExecuteTime": {
     "end_time": "2024-06-10T17:49:17.652357Z",
     "start_time": "2024-06-10T17:49:17.636229Z"
    }
   },
   "source": [
    "# Mengecek price hero novaria\n",
    "clean_data[clean_data['Hero'] == 'Novaria'].Price"
   ],
   "outputs": [
    {
     "data": {
      "text/plain": [
       "118    32000.0\n",
       "Name: Price, dtype: float64"
      ]
     },
     "execution_count": 175,
     "metadata": {},
     "output_type": "execute_result"
    }
   ],
   "execution_count": 175
  },
  {
   "metadata": {},
   "cell_type": "markdown",
   "source": "#### Drop Hero Freya",
   "id": "d5b6074be5573152"
  },
  {
   "metadata": {},
   "cell_type": "markdown",
   "source": "Hero Freya dihapus karena hero tersebut tidak bisa dibeli dengan battle points ataupun diamond, melainkan harus didapatkan melalui event.",
   "id": "980e08c7a4e1c25c"
  },
  {
   "metadata": {
    "ExecuteTime": {
     "end_time": "2024-06-10T17:49:19.602555Z",
     "start_time": "2024-06-10T17:49:19.592523Z"
    }
   },
   "cell_type": "code",
   "source": [
    "# Drop hero Freya\n",
    "clean_data = clean_data[clean_data['Hero'] != 'Freya']"
   ],
   "id": "44178a0c4f309839",
   "outputs": [],
   "execution_count": 176
  },
  {
   "cell_type": "markdown",
   "id": "219a47df017227c8",
   "metadata": {},
   "source": [
    "#### Menyeleksi Fitur yang Dibutuhkan"
   ]
  },
  {
   "cell_type": "code",
   "id": "ccb3ec4bcc8a3371",
   "metadata": {
    "ExecuteTime": {
     "end_time": "2024-06-10T17:49:27.280727Z",
     "start_time": "2024-06-10T17:49:27.264767Z"
    }
   },
   "source": [
    "clean_data.info()"
   ],
   "outputs": [
    {
     "name": "stdout",
     "output_type": "stream",
     "text": [
      "<class 'pandas.core.frame.DataFrame'>\n",
      "Int64Index: 122 entries, 0 to 122\n",
      "Data columns (total 34 columns):\n",
      " #   Column                    Non-Null Count  Dtype  \n",
      "---  ------                    --------------  -----  \n",
      " 0   Hero                      122 non-null    object \n",
      " 1   Title                     122 non-null    object \n",
      " 2   Hero Order                122 non-null    int64  \n",
      " 3   Role(s)                   122 non-null    object \n",
      " 4   Specialty(ies)            122 non-null    object \n",
      " 5   Lane Recommendation(s)    122 non-null    object \n",
      " 6   Health                    122 non-null    int64  \n",
      " 7   Health Regen              122 non-null    float64\n",
      " 8   Mana                      117 non-null    float64\n",
      " 9   Mana Regen                117 non-null    float64\n",
      " 10  Attack Speed              122 non-null    float64\n",
      " 11  Physical Damage           122 non-null    int64  \n",
      " 12  Magical Damage            122 non-null    int64  \n",
      " 13  Physical Defense          122 non-null    int64  \n",
      " 14  Magical Defense           122 non-null    int64  \n",
      " 15  Movement Speed            122 non-null    int64  \n",
      " 16  Energy                    6 non-null      float64\n",
      " 17  Energy Regen              6 non-null      float64\n",
      " 18  Price                     122 non-null    float64\n",
      " 19  Specialty                 119 non-null    object \n",
      " 20  Win Rate                  122 non-null    float64\n",
      " 21  Hero.1                    122 non-null    object \n",
      " 22   Name Pasive Abilities    122 non-null    object \n",
      " 23  Ability                   122 non-null    object \n",
      " 24  Pasive Deskripsi          122 non-null    object \n",
      " 25  Skill 1 Name Abilities    122 non-null    object \n",
      " 26  Skill 1 Ability           122 non-null    object \n",
      " 27  Skill 1 Pasive Deskripsi  122 non-null    object \n",
      " 28  Skill 2 Name Abilities    122 non-null    object \n",
      " 29  Skill 2 Ability           122 non-null    object \n",
      " 30  Skill 2 Pasive Deskripsi  122 non-null    object \n",
      " 31  Skill 3 Name Abilities    122 non-null    object \n",
      " 32  Skill 3 Ability           122 non-null    object \n",
      " 33  Skill 3 Pasive Deskripsi  122 non-null    object \n",
      "dtypes: float64(8), int64(7), object(19)\n",
      "memory usage: 33.4+ KB\n"
     ]
    }
   ],
   "execution_count": 177
  },
  {
   "cell_type": "code",
   "id": "317dd0e4790a05c4",
   "metadata": {
    "ExecuteTime": {
     "end_time": "2024-06-10T17:49:28.020424Z",
     "start_time": "2024-06-10T17:49:28.012547Z"
    }
   },
   "source": [
    "features_needed = ['Hero', 'Health', 'Health Regen', 'Attack Speed', 'Physical Damage', 'Physical Defense', 'Magical Defense', 'Movement Speed', 'Price', 'Win Rate']"
   ],
   "outputs": [],
   "execution_count": 178
  },
  {
   "cell_type": "code",
   "id": "d559efbc91f759ed",
   "metadata": {
    "ExecuteTime": {
     "end_time": "2024-06-10T17:49:36.016113Z",
     "start_time": "2024-06-10T17:49:36.002433Z"
    }
   },
   "source": [
    "final_data = clean_data[features_needed].copy()"
   ],
   "outputs": [],
   "execution_count": 179
  },
  {
   "cell_type": "code",
   "id": "333199b9b35ed4f5",
   "metadata": {
    "ExecuteTime": {
     "end_time": "2024-06-10T17:49:36.841616Z",
     "start_time": "2024-06-10T17:49:36.822211Z"
    }
   },
   "source": [
    "# Rename physical damage column to damage\n",
    "final_data.rename(columns={'Physical Damage': 'Damage'}, inplace=True)"
   ],
   "outputs": [],
   "execution_count": 180
  },
  {
   "cell_type": "code",
   "id": "656dde6901b329fd",
   "metadata": {
    "ExecuteTime": {
     "end_time": "2024-06-10T17:49:40.336512Z",
     "start_time": "2024-06-10T17:49:40.320859Z"
    }
   },
   "source": [
    "final_data.head()"
   ],
   "outputs": [
    {
     "data": {
      "text/plain": [
       "      Hero  Health  Health Regen  Attack Speed  Damage  Physical Defense  \\\n",
       "0     Miya    2524           6.0          1.06     100                17   \n",
       "1  Balmond    2736           9.4          1.06     119                25   \n",
       "2    Saber    2599           7.0          1.08     118                20   \n",
       "3    Alice    2573           7.2          1.00     114                21   \n",
       "4     Nana    2501           6.8          1.08     115                17   \n",
       "\n",
       "   Magical Defense  Movement Speed    Price  Win Rate  \n",
       "0               15             240  10800.0     50.77  \n",
       "1               15             260   6500.0     46.75  \n",
       "2               15             260   6500.0     49.31  \n",
       "3               15             240  15000.0     49.37  \n",
       "4               15             250   6500.0     41.34  "
      ],
      "text/html": [
       "<div>\n",
       "<style scoped>\n",
       "    .dataframe tbody tr th:only-of-type {\n",
       "        vertical-align: middle;\n",
       "    }\n",
       "\n",
       "    .dataframe tbody tr th {\n",
       "        vertical-align: top;\n",
       "    }\n",
       "\n",
       "    .dataframe thead th {\n",
       "        text-align: right;\n",
       "    }\n",
       "</style>\n",
       "<table border=\"1\" class=\"dataframe\">\n",
       "  <thead>\n",
       "    <tr style=\"text-align: right;\">\n",
       "      <th></th>\n",
       "      <th>Hero</th>\n",
       "      <th>Health</th>\n",
       "      <th>Health Regen</th>\n",
       "      <th>Attack Speed</th>\n",
       "      <th>Damage</th>\n",
       "      <th>Physical Defense</th>\n",
       "      <th>Magical Defense</th>\n",
       "      <th>Movement Speed</th>\n",
       "      <th>Price</th>\n",
       "      <th>Win Rate</th>\n",
       "    </tr>\n",
       "  </thead>\n",
       "  <tbody>\n",
       "    <tr>\n",
       "      <th>0</th>\n",
       "      <td>Miya</td>\n",
       "      <td>2524</td>\n",
       "      <td>6.0</td>\n",
       "      <td>1.06</td>\n",
       "      <td>100</td>\n",
       "      <td>17</td>\n",
       "      <td>15</td>\n",
       "      <td>240</td>\n",
       "      <td>10800.0</td>\n",
       "      <td>50.77</td>\n",
       "    </tr>\n",
       "    <tr>\n",
       "      <th>1</th>\n",
       "      <td>Balmond</td>\n",
       "      <td>2736</td>\n",
       "      <td>9.4</td>\n",
       "      <td>1.06</td>\n",
       "      <td>119</td>\n",
       "      <td>25</td>\n",
       "      <td>15</td>\n",
       "      <td>260</td>\n",
       "      <td>6500.0</td>\n",
       "      <td>46.75</td>\n",
       "    </tr>\n",
       "    <tr>\n",
       "      <th>2</th>\n",
       "      <td>Saber</td>\n",
       "      <td>2599</td>\n",
       "      <td>7.0</td>\n",
       "      <td>1.08</td>\n",
       "      <td>118</td>\n",
       "      <td>20</td>\n",
       "      <td>15</td>\n",
       "      <td>260</td>\n",
       "      <td>6500.0</td>\n",
       "      <td>49.31</td>\n",
       "    </tr>\n",
       "    <tr>\n",
       "      <th>3</th>\n",
       "      <td>Alice</td>\n",
       "      <td>2573</td>\n",
       "      <td>7.2</td>\n",
       "      <td>1.00</td>\n",
       "      <td>114</td>\n",
       "      <td>21</td>\n",
       "      <td>15</td>\n",
       "      <td>240</td>\n",
       "      <td>15000.0</td>\n",
       "      <td>49.37</td>\n",
       "    </tr>\n",
       "    <tr>\n",
       "      <th>4</th>\n",
       "      <td>Nana</td>\n",
       "      <td>2501</td>\n",
       "      <td>6.8</td>\n",
       "      <td>1.08</td>\n",
       "      <td>115</td>\n",
       "      <td>17</td>\n",
       "      <td>15</td>\n",
       "      <td>250</td>\n",
       "      <td>6500.0</td>\n",
       "      <td>41.34</td>\n",
       "    </tr>\n",
       "  </tbody>\n",
       "</table>\n",
       "</div>"
      ]
     },
     "execution_count": 181,
     "metadata": {},
     "output_type": "execute_result"
    }
   ],
   "execution_count": 181
  },
  {
   "cell_type": "code",
   "id": "a39bbf203ad19503",
   "metadata": {
    "ExecuteTime": {
     "end_time": "2024-06-10T17:49:48.352608Z",
     "start_time": "2024-06-10T17:49:48.336819Z"
    }
   },
   "source": [
    "final_data.info()"
   ],
   "outputs": [
    {
     "name": "stdout",
     "output_type": "stream",
     "text": [
      "<class 'pandas.core.frame.DataFrame'>\n",
      "Int64Index: 122 entries, 0 to 122\n",
      "Data columns (total 10 columns):\n",
      " #   Column            Non-Null Count  Dtype  \n",
      "---  ------            --------------  -----  \n",
      " 0   Hero              122 non-null    object \n",
      " 1   Health            122 non-null    int64  \n",
      " 2   Health Regen      122 non-null    float64\n",
      " 3   Attack Speed      122 non-null    float64\n",
      " 4   Damage            122 non-null    int64  \n",
      " 5   Physical Defense  122 non-null    int64  \n",
      " 6   Magical Defense   122 non-null    int64  \n",
      " 7   Movement Speed    122 non-null    int64  \n",
      " 8   Price             122 non-null    float64\n",
      " 9   Win Rate          122 non-null    float64\n",
      "dtypes: float64(4), int64(5), object(1)\n",
      "memory usage: 10.5+ KB\n"
     ]
    }
   ],
   "execution_count": 182
  },
  {
   "cell_type": "code",
   "id": "dcc7da439fb442df",
   "metadata": {
    "ExecuteTime": {
     "end_time": "2024-06-10T17:49:54.720746Z",
     "start_time": "2024-06-10T17:49:54.685253Z"
    }
   },
   "source": [
    "final_data.describe()"
   ],
   "outputs": [
    {
     "data": {
      "text/plain": [
       "            Health  Health Regen  Attack Speed      Damage  Physical Defense  \\\n",
       "count   122.000000    122.000000    122.000000  122.000000        122.000000   \n",
       "mean   2578.737705      7.663934      1.040656  116.122951         19.131148   \n",
       "std     206.970545      1.586986      0.059983    9.854795          3.555814   \n",
       "min     918.000000      3.800000      0.870000   90.000000         10.000000   \n",
       "25%    2501.000000      6.800000      1.000000  110.250000         17.000000   \n",
       "50%    2578.000000      7.200000      1.030000  117.000000         19.000000   \n",
       "75%    2700.250000      8.000000      1.080000  122.500000         21.000000   \n",
       "max    2909.000000     18.400000      1.220000  140.000000         27.000000   \n",
       "\n",
       "       Magical Defense  Movement Speed         Price    Win Rate  \n",
       "count       122.000000      122.000000    122.000000  122.000000  \n",
       "mean         14.877049      251.426230  28449.180328   48.789098  \n",
       "std           0.777556        8.716772   7754.350908    4.767669  \n",
       "min          10.000000      240.000000   2000.000000   25.000000  \n",
       "25%          15.000000      240.000000  32000.000000   47.020000  \n",
       "50%          15.000000      252.000000  32000.000000   49.445000  \n",
       "75%          15.000000      260.000000  32000.000000   51.122500  \n",
       "max          15.000000      270.000000  32000.000000   61.110000  "
      ],
      "text/html": [
       "<div>\n",
       "<style scoped>\n",
       "    .dataframe tbody tr th:only-of-type {\n",
       "        vertical-align: middle;\n",
       "    }\n",
       "\n",
       "    .dataframe tbody tr th {\n",
       "        vertical-align: top;\n",
       "    }\n",
       "\n",
       "    .dataframe thead th {\n",
       "        text-align: right;\n",
       "    }\n",
       "</style>\n",
       "<table border=\"1\" class=\"dataframe\">\n",
       "  <thead>\n",
       "    <tr style=\"text-align: right;\">\n",
       "      <th></th>\n",
       "      <th>Health</th>\n",
       "      <th>Health Regen</th>\n",
       "      <th>Attack Speed</th>\n",
       "      <th>Damage</th>\n",
       "      <th>Physical Defense</th>\n",
       "      <th>Magical Defense</th>\n",
       "      <th>Movement Speed</th>\n",
       "      <th>Price</th>\n",
       "      <th>Win Rate</th>\n",
       "    </tr>\n",
       "  </thead>\n",
       "  <tbody>\n",
       "    <tr>\n",
       "      <th>count</th>\n",
       "      <td>122.000000</td>\n",
       "      <td>122.000000</td>\n",
       "      <td>122.000000</td>\n",
       "      <td>122.000000</td>\n",
       "      <td>122.000000</td>\n",
       "      <td>122.000000</td>\n",
       "      <td>122.000000</td>\n",
       "      <td>122.000000</td>\n",
       "      <td>122.000000</td>\n",
       "    </tr>\n",
       "    <tr>\n",
       "      <th>mean</th>\n",
       "      <td>2578.737705</td>\n",
       "      <td>7.663934</td>\n",
       "      <td>1.040656</td>\n",
       "      <td>116.122951</td>\n",
       "      <td>19.131148</td>\n",
       "      <td>14.877049</td>\n",
       "      <td>251.426230</td>\n",
       "      <td>28449.180328</td>\n",
       "      <td>48.789098</td>\n",
       "    </tr>\n",
       "    <tr>\n",
       "      <th>std</th>\n",
       "      <td>206.970545</td>\n",
       "      <td>1.586986</td>\n",
       "      <td>0.059983</td>\n",
       "      <td>9.854795</td>\n",
       "      <td>3.555814</td>\n",
       "      <td>0.777556</td>\n",
       "      <td>8.716772</td>\n",
       "      <td>7754.350908</td>\n",
       "      <td>4.767669</td>\n",
       "    </tr>\n",
       "    <tr>\n",
       "      <th>min</th>\n",
       "      <td>918.000000</td>\n",
       "      <td>3.800000</td>\n",
       "      <td>0.870000</td>\n",
       "      <td>90.000000</td>\n",
       "      <td>10.000000</td>\n",
       "      <td>10.000000</td>\n",
       "      <td>240.000000</td>\n",
       "      <td>2000.000000</td>\n",
       "      <td>25.000000</td>\n",
       "    </tr>\n",
       "    <tr>\n",
       "      <th>25%</th>\n",
       "      <td>2501.000000</td>\n",
       "      <td>6.800000</td>\n",
       "      <td>1.000000</td>\n",
       "      <td>110.250000</td>\n",
       "      <td>17.000000</td>\n",
       "      <td>15.000000</td>\n",
       "      <td>240.000000</td>\n",
       "      <td>32000.000000</td>\n",
       "      <td>47.020000</td>\n",
       "    </tr>\n",
       "    <tr>\n",
       "      <th>50%</th>\n",
       "      <td>2578.000000</td>\n",
       "      <td>7.200000</td>\n",
       "      <td>1.030000</td>\n",
       "      <td>117.000000</td>\n",
       "      <td>19.000000</td>\n",
       "      <td>15.000000</td>\n",
       "      <td>252.000000</td>\n",
       "      <td>32000.000000</td>\n",
       "      <td>49.445000</td>\n",
       "    </tr>\n",
       "    <tr>\n",
       "      <th>75%</th>\n",
       "      <td>2700.250000</td>\n",
       "      <td>8.000000</td>\n",
       "      <td>1.080000</td>\n",
       "      <td>122.500000</td>\n",
       "      <td>21.000000</td>\n",
       "      <td>15.000000</td>\n",
       "      <td>260.000000</td>\n",
       "      <td>32000.000000</td>\n",
       "      <td>51.122500</td>\n",
       "    </tr>\n",
       "    <tr>\n",
       "      <th>max</th>\n",
       "      <td>2909.000000</td>\n",
       "      <td>18.400000</td>\n",
       "      <td>1.220000</td>\n",
       "      <td>140.000000</td>\n",
       "      <td>27.000000</td>\n",
       "      <td>15.000000</td>\n",
       "      <td>270.000000</td>\n",
       "      <td>32000.000000</td>\n",
       "      <td>61.110000</td>\n",
       "    </tr>\n",
       "  </tbody>\n",
       "</table>\n",
       "</div>"
      ]
     },
     "execution_count": 183,
     "metadata": {},
     "output_type": "execute_result"
    }
   ],
   "execution_count": 183
  },
  {
   "cell_type": "code",
   "id": "875ff3fe23d5c865",
   "metadata": {
    "ExecuteTime": {
     "end_time": "2024-06-10T17:49:56.309475Z",
     "start_time": "2024-06-10T17:49:56.293741Z"
    }
   },
   "source": [
    "# Simpan data yang sudah final\n",
    "final_data.to_csv('./data/final_data.csv', index=False)"
   ],
   "outputs": [],
   "execution_count": 184
  },
  {
   "metadata": {},
   "cell_type": "markdown",
   "source": "# Implementasi Metode Sistem Pendukung Keputusan",
   "id": "17ec9dbb35b1fad0"
  },
  {
   "metadata": {},
   "cell_type": "markdown",
   "source": "## Metode AHP untuk Menentukan Bobot Kriteria",
   "id": "f456fa14a08e8356"
  },
  {
   "cell_type": "code",
   "id": "d2d3e05f",
   "metadata": {
    "ExecuteTime": {
     "end_time": "2024-06-10T17:50:01.130479Z",
     "start_time": "2024-06-10T17:50:01.102608Z"
    }
   },
   "source": [
    "# Define matrix comparison\n",
    "comparison_matrix = np.array([\n",
    "    [1,   2,   4,   5,   5,   5,   4,   3,   3],\n",
    "    [1/2, 1,   2,   3,   3,   4,   2,   2,   3],\n",
    "    [1/4, 1/2, 1,   2,   3,   3,   2,   1,   2],\n",
    "    [1/5, 1/3, 1/2, 1,   2,   3,   1,   1,   2],\n",
    "    [1/5, 1/3, 1/3, 1/2, 1,   2,   2,   1,   1],\n",
    "    [1/5, 1/4, 1/3, 1/3, 1/2, 1,   1,   2,   1],\n",
    "    [1/4, 1/2, 1/2, 1,   1/2, 1,   1,   1,   2],\n",
    "    [1/3, 1/2, 1,   1,   1,   1/2, 1,   1,   1],\n",
    "    [1/3, 1/3, 1/2, 1/2, 1,   1,   1/2, 1,   1]\n",
    "])"
   ],
   "outputs": [],
   "execution_count": 185
  },
  {
   "cell_type": "code",
   "id": "f16e2e94",
   "metadata": {
    "ExecuteTime": {
     "end_time": "2024-06-10T17:50:01.741822Z",
     "start_time": "2024-06-10T17:50:01.726139Z"
    }
   },
   "source": [
    "# Sum the normalization matrix\n",
    "column_sum = comparison_matrix.sum(axis=0)\n",
    "normalized_matrix = comparison_matrix / column_sum\n",
    "print(normalized_matrix)"
   ],
   "outputs": [
    {
     "name": "stdout",
     "output_type": "stream",
     "text": [
      "[[0.30612245 0.34782609 0.39344262 0.34883721 0.29411765 0.24390244\n",
      "  0.27586207 0.23076923 0.1875    ]\n",
      " [0.15306122 0.17391304 0.19672131 0.20930233 0.17647059 0.19512195\n",
      "  0.13793103 0.15384615 0.1875    ]\n",
      " [0.07653061 0.08695652 0.09836066 0.13953488 0.17647059 0.14634146\n",
      "  0.13793103 0.07692308 0.125     ]\n",
      " [0.06122449 0.05797101 0.04918033 0.06976744 0.11764706 0.14634146\n",
      "  0.06896552 0.07692308 0.125     ]\n",
      " [0.06122449 0.05797101 0.03278689 0.03488372 0.05882353 0.09756098\n",
      "  0.13793103 0.07692308 0.0625    ]\n",
      " [0.06122449 0.04347826 0.03278689 0.02325581 0.02941176 0.04878049\n",
      "  0.06896552 0.15384615 0.0625    ]\n",
      " [0.07653061 0.08695652 0.04918033 0.06976744 0.02941176 0.04878049\n",
      "  0.06896552 0.07692308 0.125     ]\n",
      " [0.10204082 0.08695652 0.09836066 0.06976744 0.05882353 0.02439024\n",
      "  0.06896552 0.07692308 0.0625    ]\n",
      " [0.10204082 0.05797101 0.04918033 0.03488372 0.05882353 0.04878049\n",
      "  0.03448276 0.07692308 0.0625    ]]\n"
     ]
    }
   ],
   "execution_count": 186
  },
  {
   "cell_type": "code",
   "id": "f98d85a1",
   "metadata": {
    "ExecuteTime": {
     "end_time": "2024-06-10T17:50:02.150707Z",
     "start_time": "2024-06-10T17:50:02.132581Z"
    }
   },
   "source": [
    "# Sum each row of the normalization matrix\n",
    "row_sum = normalized_matrix.sum(axis=1)\n",
    "\n",
    "# Calculate the priority_scale\n",
    "priority_scale = row_sum / 9\n",
    "\n",
    "# Calculate Weighted Sum Vector\n",
    "weighted_matrix = np.dot(comparison_matrix, priority_scale)\n",
    "\n",
    "# Calculate Consistency Vector\n",
    "consistency_vector = weighted_matrix / priority_scale\n",
    "\n",
    "# Calculate Lambda Max and Consistency Index\n",
    "lambda_max = consistency_vector.mean()\n",
    "consistency_index = (lambda_max - 9) / (9 - 1)\n",
    "print(\"Lambda max: \", lambda_max)\n",
    "print(\"Consistency index (CI): \", consistency_index)"
   ],
   "outputs": [
    {
     "name": "stdout",
     "output_type": "stream",
     "text": [
      "Lambda max:  9.56902111821568\n",
      "Consistency index (CI):  0.07112763977696002\n"
     ]
    }
   ],
   "execution_count": 187
  },
  {
   "cell_type": "code",
   "id": "c533ae7f",
   "metadata": {
    "ExecuteTime": {
     "end_time": "2024-06-10T17:50:02.620306Z",
     "start_time": "2024-06-10T17:50:02.612267Z"
    }
   },
   "source": [
    "# Calculate Consistency Ratio\n",
    "random_index = 1.45 #n=9\n",
    "consistency_ratio = consistency_index / random_index\n",
    "print(\"Consistency ratio (CR): \", consistency_ratio)"
   ],
   "outputs": [
    {
     "name": "stdout",
     "output_type": "stream",
     "text": [
      "Consistency ratio (CR):  0.04905354467376553\n"
     ]
    }
   ],
   "execution_count": 188
  },
  {
   "metadata": {
    "ExecuteTime": {
     "end_time": "2024-06-10T17:50:02.984192Z",
     "start_time": "2024-06-10T17:50:02.962268Z"
    }
   },
   "cell_type": "code",
   "source": [
    "# Ensure CR is less than 0.1 for acceptable consistency\n",
    "if consistency_ratio < 0.1:\n",
    "    print(\"The comparison matrix are consistent.\")\n",
    "else:\n",
    "    print(\"The comparison matrix are not consistent. Consider revising the matrix.\")"
   ],
   "id": "b43daa29e560c2c8",
   "outputs": [
    {
     "name": "stdout",
     "output_type": "stream",
     "text": [
      "The comparison matrix are consistent.\n"
     ]
    }
   ],
   "execution_count": 189
  },
  {
   "cell_type": "markdown",
   "id": "8948b5a8",
   "metadata": {},
   "source": "Dikarenakan CR < 0.1, maka comparison_matrix yang berpasangan **konsisten**."
  },
  {
   "metadata": {},
   "cell_type": "markdown",
   "source": "# Mengintegrasikan Bobot AHP dengan SAW",
   "id": "8774be34c66245fd"
  },
  {
   "metadata": {
    "ExecuteTime": {
     "end_time": "2024-06-10T17:50:49.075221Z",
     "start_time": "2024-06-10T17:50:49.052473Z"
    }
   },
   "cell_type": "code",
   "source": [
    "# Define the criteria\n",
    "criteria = ['Health', 'Health Regen', 'Attack Speed', 'Damage', 'Physical Defense', 'Magical Defense', 'Movement Speed', 'Price', 'Win Rate']\n",
    "\n",
    "heroes = ['Miya', 'Balmond', 'Saber', 'Alice', 'Nana', 'Tigreal', 'Alucard', 'Karina', 'Akai', 'Franco', 'Bane', 'Bruno', 'Clint', 'Rafaela',\n",
    "    'Eudora', 'Zilong', 'Fanny', 'Layla', 'Minotaur', 'Lolita', 'Hayabusa', 'Gord', 'Natalia', 'Kagura', 'Chou', 'Sun',\n",
    "    'Alpha', 'Ruby', 'Yi Sun-shin', 'Moskov', 'Johnson', 'Cyclops', 'Estes', 'Hilda', 'Aurora', 'Lapu-Lapu', 'Vexana', 'Roger',\n",
    "    'Karrie', 'Gatotkaca', 'Harley', 'Irithel', 'Grock', 'Argus', 'Odette', 'Lancelot', 'Diggie', 'Hylos', 'Zhask', 'Helcurt',\n",
    "    'Pharsa', 'Lesley', 'Jawhead', 'Angela', 'Gusion', 'Valir', 'Martis', 'Uranus', 'Hanabi', \"Chang'e\", 'Kaja', 'Selena',\n",
    "    'Aldous', 'Claude', 'Vale', 'Leomord', 'Lunox', 'Hanzo', 'Belerick', 'Kimmy', 'Thamuz', 'Harith', 'Minsitthar', 'Kadita',\n",
    "    'Faramis', 'Badang', 'Khufra', 'Granger', 'Guinevere', 'Esmeralda', 'Terizla', 'X.Borg', 'Ling', 'Dyrroth', 'Lylia', 'Baxia', 'Masha',\n",
    "    'Wanwan', 'Silvanna', 'Cecilion', 'Carmilla', 'Atlas', 'Popol and Kupa', 'Yu Zhong', 'Luo Yi', 'Benedetta', 'Khaleed',\n",
    "    'Barats', 'Brody', 'Yve', 'Mathilda', 'Paquito', 'Gloo', 'Beatrix', 'Phoveus', 'Natan', 'Aulus', 'Aamon', 'Valentina', 'Edith',\n",
    "    'Floryn', 'Yin', 'Melissa', 'Xavier', 'Julian', 'Fredrinn', 'Joy','Novaria', 'Arlott', 'Ixia', 'Nolan', 'Cici']"
   ],
   "id": "eae1e598b2aea70f",
   "outputs": [],
   "execution_count": 201
  },
  {
   "cell_type": "code",
   "id": "81583408",
   "metadata": {
    "ExecuteTime": {
     "end_time": "2024-06-10T17:50:49.577799Z",
     "start_time": "2024-06-10T17:50:49.562602Z"
    }
   },
   "source": [
    "# Define the weights\n",
    "weights = np.array(weighted_matrix)\n",
    "weights"
   ],
   "outputs": [
    {
     "data": {
      "text/plain": [
       "array([2.85452071, 1.71569693, 1.16184572, 0.83378325, 0.65569705,\n",
       "       0.5359009 , 0.65778226, 0.68818759, 0.55083807])"
      ]
     },
     "execution_count": 202,
     "metadata": {},
     "output_type": "execute_result"
    }
   ],
   "execution_count": 202
  },
  {
   "cell_type": "code",
   "id": "963c69ad",
   "metadata": {
    "ExecuteTime": {
     "end_time": "2024-06-10T17:50:50.007460Z",
     "start_time": "2024-06-10T17:50:49.988353Z"
    }
   },
   "source": [
    "# Define cost-benefit\n",
    "cost_benefit = ['benefit', 'benefit', 'benefit', 'benefit', 'benefit', 'benefit', 'benefit', 'cost', 'benefit']"
   ],
   "outputs": [],
   "execution_count": 203
  },
  {
   "metadata": {
    "ExecuteTime": {
     "end_time": "2024-06-10T17:50:50.714384Z",
     "start_time": "2024-06-10T17:50:50.682441Z"
    }
   },
   "cell_type": "code",
   "source": [
    "# Load data\n",
    "df = pd.read_csv(\"data/final_data.csv\")\n",
    "df.head()"
   ],
   "id": "f90e1c43ef57bce9",
   "outputs": [
    {
     "data": {
      "text/plain": [
       "      Hero  Health  Health Regen  Attack Speed  Damage  Physical Defense  \\\n",
       "0     Miya    2524           6.0          1.06     100                17   \n",
       "1  Balmond    2736           9.4          1.06     119                25   \n",
       "2    Saber    2599           7.0          1.08     118                20   \n",
       "3    Alice    2573           7.2          1.00     114                21   \n",
       "4     Nana    2501           6.8          1.08     115                17   \n",
       "\n",
       "   Magical Defense  Movement Speed    Price  Win Rate  \n",
       "0               15             240  10800.0     50.77  \n",
       "1               15             260   6500.0     46.75  \n",
       "2               15             260   6500.0     49.31  \n",
       "3               15             240  15000.0     49.37  \n",
       "4               15             250   6500.0     41.34  "
      ],
      "text/html": [
       "<div>\n",
       "<style scoped>\n",
       "    .dataframe tbody tr th:only-of-type {\n",
       "        vertical-align: middle;\n",
       "    }\n",
       "\n",
       "    .dataframe tbody tr th {\n",
       "        vertical-align: top;\n",
       "    }\n",
       "\n",
       "    .dataframe thead th {\n",
       "        text-align: right;\n",
       "    }\n",
       "</style>\n",
       "<table border=\"1\" class=\"dataframe\">\n",
       "  <thead>\n",
       "    <tr style=\"text-align: right;\">\n",
       "      <th></th>\n",
       "      <th>Hero</th>\n",
       "      <th>Health</th>\n",
       "      <th>Health Regen</th>\n",
       "      <th>Attack Speed</th>\n",
       "      <th>Damage</th>\n",
       "      <th>Physical Defense</th>\n",
       "      <th>Magical Defense</th>\n",
       "      <th>Movement Speed</th>\n",
       "      <th>Price</th>\n",
       "      <th>Win Rate</th>\n",
       "    </tr>\n",
       "  </thead>\n",
       "  <tbody>\n",
       "    <tr>\n",
       "      <th>0</th>\n",
       "      <td>Miya</td>\n",
       "      <td>2524</td>\n",
       "      <td>6.0</td>\n",
       "      <td>1.06</td>\n",
       "      <td>100</td>\n",
       "      <td>17</td>\n",
       "      <td>15</td>\n",
       "      <td>240</td>\n",
       "      <td>10800.0</td>\n",
       "      <td>50.77</td>\n",
       "    </tr>\n",
       "    <tr>\n",
       "      <th>1</th>\n",
       "      <td>Balmond</td>\n",
       "      <td>2736</td>\n",
       "      <td>9.4</td>\n",
       "      <td>1.06</td>\n",
       "      <td>119</td>\n",
       "      <td>25</td>\n",
       "      <td>15</td>\n",
       "      <td>260</td>\n",
       "      <td>6500.0</td>\n",
       "      <td>46.75</td>\n",
       "    </tr>\n",
       "    <tr>\n",
       "      <th>2</th>\n",
       "      <td>Saber</td>\n",
       "      <td>2599</td>\n",
       "      <td>7.0</td>\n",
       "      <td>1.08</td>\n",
       "      <td>118</td>\n",
       "      <td>20</td>\n",
       "      <td>15</td>\n",
       "      <td>260</td>\n",
       "      <td>6500.0</td>\n",
       "      <td>49.31</td>\n",
       "    </tr>\n",
       "    <tr>\n",
       "      <th>3</th>\n",
       "      <td>Alice</td>\n",
       "      <td>2573</td>\n",
       "      <td>7.2</td>\n",
       "      <td>1.00</td>\n",
       "      <td>114</td>\n",
       "      <td>21</td>\n",
       "      <td>15</td>\n",
       "      <td>240</td>\n",
       "      <td>15000.0</td>\n",
       "      <td>49.37</td>\n",
       "    </tr>\n",
       "    <tr>\n",
       "      <th>4</th>\n",
       "      <td>Nana</td>\n",
       "      <td>2501</td>\n",
       "      <td>6.8</td>\n",
       "      <td>1.08</td>\n",
       "      <td>115</td>\n",
       "      <td>17</td>\n",
       "      <td>15</td>\n",
       "      <td>250</td>\n",
       "      <td>6500.0</td>\n",
       "      <td>41.34</td>\n",
       "    </tr>\n",
       "  </tbody>\n",
       "</table>\n",
       "</div>"
      ]
     },
     "execution_count": 204,
     "metadata": {},
     "output_type": "execute_result"
    }
   ],
   "execution_count": 204
  },
  {
   "metadata": {
    "ExecuteTime": {
     "end_time": "2024-06-10T17:50:51.204236Z",
     "start_time": "2024-06-10T17:50:51.188220Z"
    }
   },
   "cell_type": "code",
   "source": [
    "# drop hero column\n",
    "df.drop(columns=['Hero'], inplace=True)"
   ],
   "id": "dd920d84e29fabdd",
   "outputs": [],
   "execution_count": 205
  },
  {
   "metadata": {
    "ExecuteTime": {
     "end_time": "2024-06-10T17:50:51.849618Z",
     "start_time": "2024-06-10T17:50:51.822320Z"
    }
   },
   "cell_type": "code",
   "source": [
    "# Normalize the data\n",
    "normalized_df = df.copy()\n",
    "for col in normalized_df.columns:\n",
    "    if col in ['Price']:\n",
    "        normalized_df[col] = normalized_df[col].max() / normalized_df[col]\n",
    "    else:\n",
    "        normalized_df[col] = normalized_df[col] / normalized_df[col].max()\n",
    "        "
   ],
   "id": "a109b1ebd8391cca",
   "outputs": [],
   "execution_count": 206
  },
  {
   "metadata": {
    "ExecuteTime": {
     "end_time": "2024-06-10T17:50:52.484014Z",
     "start_time": "2024-06-10T17:50:52.462551Z"
    }
   },
   "cell_type": "code",
   "source": "normalized_df.head()",
   "id": "ecae37cd4bc4e3ee",
   "outputs": [
    {
     "data": {
      "text/plain": [
       "     Health  Health Regen  Attack Speed    Damage  Physical Defense  \\\n",
       "0  0.867652      0.326087      0.868852  0.714286          0.629630   \n",
       "1  0.940529      0.510870      0.868852  0.850000          0.925926   \n",
       "2  0.893434      0.380435      0.885246  0.842857          0.740741   \n",
       "3  0.884496      0.391304      0.819672  0.814286          0.777778   \n",
       "4  0.859746      0.369565      0.885246  0.821429          0.629630   \n",
       "\n",
       "   Magical Defense  Movement Speed     Price  Win Rate  \n",
       "0              1.0        0.888889  2.962963  0.830797  \n",
       "1              1.0        0.962963  4.923077  0.765014  \n",
       "2              1.0        0.962963  4.923077  0.806906  \n",
       "3              1.0        0.888889  2.133333  0.807887  \n",
       "4              1.0        0.925926  4.923077  0.676485  "
      ],
      "text/html": [
       "<div>\n",
       "<style scoped>\n",
       "    .dataframe tbody tr th:only-of-type {\n",
       "        vertical-align: middle;\n",
       "    }\n",
       "\n",
       "    .dataframe tbody tr th {\n",
       "        vertical-align: top;\n",
       "    }\n",
       "\n",
       "    .dataframe thead th {\n",
       "        text-align: right;\n",
       "    }\n",
       "</style>\n",
       "<table border=\"1\" class=\"dataframe\">\n",
       "  <thead>\n",
       "    <tr style=\"text-align: right;\">\n",
       "      <th></th>\n",
       "      <th>Health</th>\n",
       "      <th>Health Regen</th>\n",
       "      <th>Attack Speed</th>\n",
       "      <th>Damage</th>\n",
       "      <th>Physical Defense</th>\n",
       "      <th>Magical Defense</th>\n",
       "      <th>Movement Speed</th>\n",
       "      <th>Price</th>\n",
       "      <th>Win Rate</th>\n",
       "    </tr>\n",
       "  </thead>\n",
       "  <tbody>\n",
       "    <tr>\n",
       "      <th>0</th>\n",
       "      <td>0.867652</td>\n",
       "      <td>0.326087</td>\n",
       "      <td>0.868852</td>\n",
       "      <td>0.714286</td>\n",
       "      <td>0.629630</td>\n",
       "      <td>1.0</td>\n",
       "      <td>0.888889</td>\n",
       "      <td>2.962963</td>\n",
       "      <td>0.830797</td>\n",
       "    </tr>\n",
       "    <tr>\n",
       "      <th>1</th>\n",
       "      <td>0.940529</td>\n",
       "      <td>0.510870</td>\n",
       "      <td>0.868852</td>\n",
       "      <td>0.850000</td>\n",
       "      <td>0.925926</td>\n",
       "      <td>1.0</td>\n",
       "      <td>0.962963</td>\n",
       "      <td>4.923077</td>\n",
       "      <td>0.765014</td>\n",
       "    </tr>\n",
       "    <tr>\n",
       "      <th>2</th>\n",
       "      <td>0.893434</td>\n",
       "      <td>0.380435</td>\n",
       "      <td>0.885246</td>\n",
       "      <td>0.842857</td>\n",
       "      <td>0.740741</td>\n",
       "      <td>1.0</td>\n",
       "      <td>0.962963</td>\n",
       "      <td>4.923077</td>\n",
       "      <td>0.806906</td>\n",
       "    </tr>\n",
       "    <tr>\n",
       "      <th>3</th>\n",
       "      <td>0.884496</td>\n",
       "      <td>0.391304</td>\n",
       "      <td>0.819672</td>\n",
       "      <td>0.814286</td>\n",
       "      <td>0.777778</td>\n",
       "      <td>1.0</td>\n",
       "      <td>0.888889</td>\n",
       "      <td>2.133333</td>\n",
       "      <td>0.807887</td>\n",
       "    </tr>\n",
       "    <tr>\n",
       "      <th>4</th>\n",
       "      <td>0.859746</td>\n",
       "      <td>0.369565</td>\n",
       "      <td>0.885246</td>\n",
       "      <td>0.821429</td>\n",
       "      <td>0.629630</td>\n",
       "      <td>1.0</td>\n",
       "      <td>0.925926</td>\n",
       "      <td>4.923077</td>\n",
       "      <td>0.676485</td>\n",
       "    </tr>\n",
       "  </tbody>\n",
       "</table>\n",
       "</div>"
      ]
     },
     "execution_count": 207,
     "metadata": {},
     "output_type": "execute_result"
    }
   ],
   "execution_count": 207
  },
  {
   "metadata": {
    "ExecuteTime": {
     "end_time": "2024-06-10T17:50:53.628266Z",
     "start_time": "2024-06-10T17:50:53.602835Z"
    }
   },
   "cell_type": "code",
   "source": [
    "# Calculate the weighted normalized decision matrix\n",
    "weighted_normalized_df = normalized_df.copy()\n",
    "weighted_normalized_df = weighted_normalized_df * weights"
   ],
   "id": "a0191c2547e8c07b",
   "outputs": [],
   "execution_count": 208
  },
  {
   "metadata": {
    "ExecuteTime": {
     "end_time": "2024-06-10T17:50:54.262424Z",
     "start_time": "2024-06-10T17:50:54.242665Z"
    }
   },
   "cell_type": "code",
   "source": "weighted_normalized_df.head()",
   "id": "1d6aeda8a95ba396",
   "outputs": [
    {
     "data": {
      "text/plain": [
       "     Health  Health Regen  Attack Speed    Damage  Physical Defense  \\\n",
       "0  2.476731      0.559466      1.009473  0.595559          0.412846   \n",
       "1  2.684761      0.876497      1.009473  0.708716          0.607127   \n",
       "2  2.550326      0.652711      1.028519  0.702760          0.485702   \n",
       "3  2.524813      0.671360      0.952333  0.678938          0.509987   \n",
       "4  2.454162      0.634062      1.028519  0.684893          0.412846   \n",
       "\n",
       "   Magical Defense  Movement Speed     Price  Win Rate  \n",
       "0         0.535901        0.584695  2.039074  0.457635  \n",
       "1         0.535901        0.633420  3.388000  0.421399  \n",
       "2         0.535901        0.633420  3.388000  0.444474  \n",
       "3         0.535901        0.584695  1.468134  0.445015  \n",
       "4         0.535901        0.609058  3.388000  0.372634  "
      ],
      "text/html": [
       "<div>\n",
       "<style scoped>\n",
       "    .dataframe tbody tr th:only-of-type {\n",
       "        vertical-align: middle;\n",
       "    }\n",
       "\n",
       "    .dataframe tbody tr th {\n",
       "        vertical-align: top;\n",
       "    }\n",
       "\n",
       "    .dataframe thead th {\n",
       "        text-align: right;\n",
       "    }\n",
       "</style>\n",
       "<table border=\"1\" class=\"dataframe\">\n",
       "  <thead>\n",
       "    <tr style=\"text-align: right;\">\n",
       "      <th></th>\n",
       "      <th>Health</th>\n",
       "      <th>Health Regen</th>\n",
       "      <th>Attack Speed</th>\n",
       "      <th>Damage</th>\n",
       "      <th>Physical Defense</th>\n",
       "      <th>Magical Defense</th>\n",
       "      <th>Movement Speed</th>\n",
       "      <th>Price</th>\n",
       "      <th>Win Rate</th>\n",
       "    </tr>\n",
       "  </thead>\n",
       "  <tbody>\n",
       "    <tr>\n",
       "      <th>0</th>\n",
       "      <td>2.476731</td>\n",
       "      <td>0.559466</td>\n",
       "      <td>1.009473</td>\n",
       "      <td>0.595559</td>\n",
       "      <td>0.412846</td>\n",
       "      <td>0.535901</td>\n",
       "      <td>0.584695</td>\n",
       "      <td>2.039074</td>\n",
       "      <td>0.457635</td>\n",
       "    </tr>\n",
       "    <tr>\n",
       "      <th>1</th>\n",
       "      <td>2.684761</td>\n",
       "      <td>0.876497</td>\n",
       "      <td>1.009473</td>\n",
       "      <td>0.708716</td>\n",
       "      <td>0.607127</td>\n",
       "      <td>0.535901</td>\n",
       "      <td>0.633420</td>\n",
       "      <td>3.388000</td>\n",
       "      <td>0.421399</td>\n",
       "    </tr>\n",
       "    <tr>\n",
       "      <th>2</th>\n",
       "      <td>2.550326</td>\n",
       "      <td>0.652711</td>\n",
       "      <td>1.028519</td>\n",
       "      <td>0.702760</td>\n",
       "      <td>0.485702</td>\n",
       "      <td>0.535901</td>\n",
       "      <td>0.633420</td>\n",
       "      <td>3.388000</td>\n",
       "      <td>0.444474</td>\n",
       "    </tr>\n",
       "    <tr>\n",
       "      <th>3</th>\n",
       "      <td>2.524813</td>\n",
       "      <td>0.671360</td>\n",
       "      <td>0.952333</td>\n",
       "      <td>0.678938</td>\n",
       "      <td>0.509987</td>\n",
       "      <td>0.535901</td>\n",
       "      <td>0.584695</td>\n",
       "      <td>1.468134</td>\n",
       "      <td>0.445015</td>\n",
       "    </tr>\n",
       "    <tr>\n",
       "      <th>4</th>\n",
       "      <td>2.454162</td>\n",
       "      <td>0.634062</td>\n",
       "      <td>1.028519</td>\n",
       "      <td>0.684893</td>\n",
       "      <td>0.412846</td>\n",
       "      <td>0.535901</td>\n",
       "      <td>0.609058</td>\n",
       "      <td>3.388000</td>\n",
       "      <td>0.372634</td>\n",
       "    </tr>\n",
       "  </tbody>\n",
       "</table>\n",
       "</div>"
      ]
     },
     "execution_count": 209,
     "metadata": {},
     "output_type": "execute_result"
    }
   ],
   "execution_count": 209
  },
  {
   "metadata": {
    "ExecuteTime": {
     "end_time": "2024-06-10T17:50:56.219711Z",
     "start_time": "2024-06-10T17:50:56.187648Z"
    }
   },
   "cell_type": "code",
   "source": [
    "# Calculate the SAW score\n",
    "saw_score = weighted_normalized_df.copy()\n",
    "for idx, row in saw_score.iterrows():\n",
    "    saw_score.loc[idx, 'SAW Score'] = np.sum(row)\n",
    "    \n",
    "saw_score['Hero'] = heroes"
   ],
   "id": "836958e086bb87ac",
   "outputs": [],
   "execution_count": 210
  },
  {
   "metadata": {
    "ExecuteTime": {
     "end_time": "2024-06-10T17:50:57.753481Z",
     "start_time": "2024-06-10T17:50:57.737838Z"
    }
   },
   "cell_type": "code",
   "source": "saw_score.head()",
   "id": "7d04b0f7c066bfb8",
   "outputs": [
    {
     "data": {
      "text/plain": [
       "     Health  Health Regen  Attack Speed    Damage  Physical Defense  \\\n",
       "0  2.476731      0.559466      1.009473  0.595559          0.412846   \n",
       "1  2.684761      0.876497      1.009473  0.708716          0.607127   \n",
       "2  2.550326      0.652711      1.028519  0.702760          0.485702   \n",
       "3  2.524813      0.671360      0.952333  0.678938          0.509987   \n",
       "4  2.454162      0.634062      1.028519  0.684893          0.412846   \n",
       "\n",
       "   Magical Defense  Movement Speed     Price  Win Rate  SAW Score     Hero  \n",
       "0         0.535901        0.584695  2.039074  0.457635   8.671381     Miya  \n",
       "1         0.535901        0.633420  3.388000  0.421399  10.865293  Balmond  \n",
       "2         0.535901        0.633420  3.388000  0.444474  10.421814    Saber  \n",
       "3         0.535901        0.584695  1.468134  0.445015   8.371175    Alice  \n",
       "4         0.535901        0.609058  3.388000  0.372634  10.120075     Nana  "
      ],
      "text/html": [
       "<div>\n",
       "<style scoped>\n",
       "    .dataframe tbody tr th:only-of-type {\n",
       "        vertical-align: middle;\n",
       "    }\n",
       "\n",
       "    .dataframe tbody tr th {\n",
       "        vertical-align: top;\n",
       "    }\n",
       "\n",
       "    .dataframe thead th {\n",
       "        text-align: right;\n",
       "    }\n",
       "</style>\n",
       "<table border=\"1\" class=\"dataframe\">\n",
       "  <thead>\n",
       "    <tr style=\"text-align: right;\">\n",
       "      <th></th>\n",
       "      <th>Health</th>\n",
       "      <th>Health Regen</th>\n",
       "      <th>Attack Speed</th>\n",
       "      <th>Damage</th>\n",
       "      <th>Physical Defense</th>\n",
       "      <th>Magical Defense</th>\n",
       "      <th>Movement Speed</th>\n",
       "      <th>Price</th>\n",
       "      <th>Win Rate</th>\n",
       "      <th>SAW Score</th>\n",
       "      <th>Hero</th>\n",
       "    </tr>\n",
       "  </thead>\n",
       "  <tbody>\n",
       "    <tr>\n",
       "      <th>0</th>\n",
       "      <td>2.476731</td>\n",
       "      <td>0.559466</td>\n",
       "      <td>1.009473</td>\n",
       "      <td>0.595559</td>\n",
       "      <td>0.412846</td>\n",
       "      <td>0.535901</td>\n",
       "      <td>0.584695</td>\n",
       "      <td>2.039074</td>\n",
       "      <td>0.457635</td>\n",
       "      <td>8.671381</td>\n",
       "      <td>Miya</td>\n",
       "    </tr>\n",
       "    <tr>\n",
       "      <th>1</th>\n",
       "      <td>2.684761</td>\n",
       "      <td>0.876497</td>\n",
       "      <td>1.009473</td>\n",
       "      <td>0.708716</td>\n",
       "      <td>0.607127</td>\n",
       "      <td>0.535901</td>\n",
       "      <td>0.633420</td>\n",
       "      <td>3.388000</td>\n",
       "      <td>0.421399</td>\n",
       "      <td>10.865293</td>\n",
       "      <td>Balmond</td>\n",
       "    </tr>\n",
       "    <tr>\n",
       "      <th>2</th>\n",
       "      <td>2.550326</td>\n",
       "      <td>0.652711</td>\n",
       "      <td>1.028519</td>\n",
       "      <td>0.702760</td>\n",
       "      <td>0.485702</td>\n",
       "      <td>0.535901</td>\n",
       "      <td>0.633420</td>\n",
       "      <td>3.388000</td>\n",
       "      <td>0.444474</td>\n",
       "      <td>10.421814</td>\n",
       "      <td>Saber</td>\n",
       "    </tr>\n",
       "    <tr>\n",
       "      <th>3</th>\n",
       "      <td>2.524813</td>\n",
       "      <td>0.671360</td>\n",
       "      <td>0.952333</td>\n",
       "      <td>0.678938</td>\n",
       "      <td>0.509987</td>\n",
       "      <td>0.535901</td>\n",
       "      <td>0.584695</td>\n",
       "      <td>1.468134</td>\n",
       "      <td>0.445015</td>\n",
       "      <td>8.371175</td>\n",
       "      <td>Alice</td>\n",
       "    </tr>\n",
       "    <tr>\n",
       "      <th>4</th>\n",
       "      <td>2.454162</td>\n",
       "      <td>0.634062</td>\n",
       "      <td>1.028519</td>\n",
       "      <td>0.684893</td>\n",
       "      <td>0.412846</td>\n",
       "      <td>0.535901</td>\n",
       "      <td>0.609058</td>\n",
       "      <td>3.388000</td>\n",
       "      <td>0.372634</td>\n",
       "      <td>10.120075</td>\n",
       "      <td>Nana</td>\n",
       "    </tr>\n",
       "  </tbody>\n",
       "</table>\n",
       "</div>"
      ]
     },
     "execution_count": 211,
     "metadata": {},
     "output_type": "execute_result"
    }
   ],
   "execution_count": 211
  },
  {
   "metadata": {
    "ExecuteTime": {
     "end_time": "2024-06-10T17:53:37.944235Z",
     "start_time": "2024-06-10T17:53:37.928401Z"
    }
   },
   "cell_type": "code",
   "source": [
    "# Rank the hero based on the SAW score\n",
    "saw_score = saw_score.sort_values(by='SAW Score', ascending=False)\n",
    "saw_score.reset_index(drop=True, inplace=True)\n",
    "saw_score.index += 1\n",
    "saw_score[['Hero', 'SAW Score']].head(20)"
   ],
   "id": "265892d2bcfe8c84",
   "outputs": [
    {
     "data": {
      "text/plain": [
       "        Hero  SAW Score\n",
       "1     Eudora  17.920501\n",
       "2      Layla  17.657190\n",
       "3    Balmond  10.865293\n",
       "4       Bane  10.560597\n",
       "5    Tigreal  10.510167\n",
       "6      Saber  10.421814\n",
       "7       Nana  10.120075\n",
       "8    Rafaela  10.032993\n",
       "9      Hylos   8.856854\n",
       "10      Miya   8.671381\n",
       "11    Zilong   8.669260\n",
       "12   Alucard   8.637736\n",
       "13  Minotaur   8.545764\n",
       "14   Phoveus   8.441113\n",
       "15   Paquito   8.393716\n",
       "16     Alice   8.371175\n",
       "17     Clint   8.357366\n",
       "18     Hilda   8.344194\n",
       "19      Gloo   8.315330\n",
       "20     Bruno   8.310267"
      ],
      "text/html": [
       "<div>\n",
       "<style scoped>\n",
       "    .dataframe tbody tr th:only-of-type {\n",
       "        vertical-align: middle;\n",
       "    }\n",
       "\n",
       "    .dataframe tbody tr th {\n",
       "        vertical-align: top;\n",
       "    }\n",
       "\n",
       "    .dataframe thead th {\n",
       "        text-align: right;\n",
       "    }\n",
       "</style>\n",
       "<table border=\"1\" class=\"dataframe\">\n",
       "  <thead>\n",
       "    <tr style=\"text-align: right;\">\n",
       "      <th></th>\n",
       "      <th>Hero</th>\n",
       "      <th>SAW Score</th>\n",
       "    </tr>\n",
       "  </thead>\n",
       "  <tbody>\n",
       "    <tr>\n",
       "      <th>1</th>\n",
       "      <td>Eudora</td>\n",
       "      <td>17.920501</td>\n",
       "    </tr>\n",
       "    <tr>\n",
       "      <th>2</th>\n",
       "      <td>Layla</td>\n",
       "      <td>17.657190</td>\n",
       "    </tr>\n",
       "    <tr>\n",
       "      <th>3</th>\n",
       "      <td>Balmond</td>\n",
       "      <td>10.865293</td>\n",
       "    </tr>\n",
       "    <tr>\n",
       "      <th>4</th>\n",
       "      <td>Bane</td>\n",
       "      <td>10.560597</td>\n",
       "    </tr>\n",
       "    <tr>\n",
       "      <th>5</th>\n",
       "      <td>Tigreal</td>\n",
       "      <td>10.510167</td>\n",
       "    </tr>\n",
       "    <tr>\n",
       "      <th>6</th>\n",
       "      <td>Saber</td>\n",
       "      <td>10.421814</td>\n",
       "    </tr>\n",
       "    <tr>\n",
       "      <th>7</th>\n",
       "      <td>Nana</td>\n",
       "      <td>10.120075</td>\n",
       "    </tr>\n",
       "    <tr>\n",
       "      <th>8</th>\n",
       "      <td>Rafaela</td>\n",
       "      <td>10.032993</td>\n",
       "    </tr>\n",
       "    <tr>\n",
       "      <th>9</th>\n",
       "      <td>Hylos</td>\n",
       "      <td>8.856854</td>\n",
       "    </tr>\n",
       "    <tr>\n",
       "      <th>10</th>\n",
       "      <td>Miya</td>\n",
       "      <td>8.671381</td>\n",
       "    </tr>\n",
       "    <tr>\n",
       "      <th>11</th>\n",
       "      <td>Zilong</td>\n",
       "      <td>8.669260</td>\n",
       "    </tr>\n",
       "    <tr>\n",
       "      <th>12</th>\n",
       "      <td>Alucard</td>\n",
       "      <td>8.637736</td>\n",
       "    </tr>\n",
       "    <tr>\n",
       "      <th>13</th>\n",
       "      <td>Minotaur</td>\n",
       "      <td>8.545764</td>\n",
       "    </tr>\n",
       "    <tr>\n",
       "      <th>14</th>\n",
       "      <td>Phoveus</td>\n",
       "      <td>8.441113</td>\n",
       "    </tr>\n",
       "    <tr>\n",
       "      <th>15</th>\n",
       "      <td>Paquito</td>\n",
       "      <td>8.393716</td>\n",
       "    </tr>\n",
       "    <tr>\n",
       "      <th>16</th>\n",
       "      <td>Alice</td>\n",
       "      <td>8.371175</td>\n",
       "    </tr>\n",
       "    <tr>\n",
       "      <th>17</th>\n",
       "      <td>Clint</td>\n",
       "      <td>8.357366</td>\n",
       "    </tr>\n",
       "    <tr>\n",
       "      <th>18</th>\n",
       "      <td>Hilda</td>\n",
       "      <td>8.344194</td>\n",
       "    </tr>\n",
       "    <tr>\n",
       "      <th>19</th>\n",
       "      <td>Gloo</td>\n",
       "      <td>8.315330</td>\n",
       "    </tr>\n",
       "    <tr>\n",
       "      <th>20</th>\n",
       "      <td>Bruno</td>\n",
       "      <td>8.310267</td>\n",
       "    </tr>\n",
       "  </tbody>\n",
       "</table>\n",
       "</div>"
      ]
     },
     "execution_count": 215,
     "metadata": {},
     "output_type": "execute_result"
    }
   ],
   "execution_count": 215
  }
 ],
 "metadata": {
  "kernelspec": {
   "display_name": "Python 3",
   "language": "python",
   "name": "python3"
  },
  "language_info": {
   "codemirror_mode": {
    "name": "ipython",
    "version": 3
   },
   "file_extension": ".py",
   "mimetype": "text/x-python",
   "name": "python",
   "nbconvert_exporter": "python",
   "pygments_lexer": "ipython3",
   "version": "3.12.2"
  }
 },
 "nbformat": 4,
 "nbformat_minor": 5
}
